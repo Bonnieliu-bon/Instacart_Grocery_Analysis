{
 "cells": [
  {
   "cell_type": "markdown",
   "id": "65ec7759",
   "metadata": {},
   "source": [
    "# 2. Importing Libraries and Python Data Types\n",
    "## Table of contents\n",
    "***\n",
    "\n",
    "**`1. Import libraries`**<br/>\n",
    "\n",
    "**`2. Basic calculation`**<br/>\n",
    "\n",
    "**`3. Division with floating-point variables`** <br/>\n",
    "\n",
    "**`4. Construct a short word made of separate strings`**<br/>\n",
    "\n",
    "**`5. Construct 2 short sentences made of separate strings`**<br/>\n",
    "\n",
    "**`6. Bonus task`**<br/>\n",
    "***"
   ]
  },
  {
   "cell_type": "markdown",
   "id": "a3ef6b78",
   "metadata": {},
   "source": [
    "### 1. Importing libraries"
   ]
  },
  {
   "cell_type": "code",
   "execution_count": null,
   "id": "f78994a4",
   "metadata": {},
   "outputs": [],
   "source": [
    "# Import libraries\n",
    "import pandas as pd\n",
    "import numpy as np\n",
    "import os"
   ]
  },
  {
   "cell_type": "markdown",
   "id": "b58ce606",
   "metadata": {},
   "source": [
    "### 2. Basic calculation"
   ]
  },
  {
   "cell_type": "markdown",
   "id": "bc911d30",
   "metadata": {},
   "source": [
    "#### _3 different ways of reaching a result of 100_"
   ]
  },
  {
   "cell_type": "code",
   "execution_count": 1,
   "id": "37d42a41",
   "metadata": {},
   "outputs": [
    {
     "data": {
      "text/plain": [
       "100"
      ]
     },
     "execution_count": 1,
     "metadata": {},
     "output_type": "execute_result"
    }
   ],
   "source": [
    "2*50"
   ]
  },
  {
   "cell_type": "code",
   "execution_count": 16,
   "id": "e2aca28e",
   "metadata": {},
   "outputs": [
    {
     "data": {
      "text/plain": [
       "100"
      ]
     },
     "execution_count": 16,
     "metadata": {},
     "output_type": "execute_result"
    }
   ],
   "source": [
    "80+20"
   ]
  },
  {
   "cell_type": "code",
   "execution_count": 17,
   "id": "59df1b7a",
   "metadata": {},
   "outputs": [
    {
     "data": {
      "text/plain": [
       "100.0"
      ]
     },
     "execution_count": 17,
     "metadata": {},
     "output_type": "execute_result"
    }
   ],
   "source": [
    "10000/100"
   ]
  },
  {
   "cell_type": "markdown",
   "id": "9a391100",
   "metadata": {},
   "source": [
    "### 3. Division with floating-point variables"
   ]
  },
  {
   "cell_type": "code",
   "execution_count": 20,
   "id": "9bdb8ffe",
   "metadata": {},
   "outputs": [
    {
     "data": {
      "text/plain": [
       "43.53086419753086"
      ]
     },
     "execution_count": 20,
     "metadata": {},
     "output_type": "execute_result"
    }
   ],
   "source": [
    "105.78/2.43"
   ]
  },
  {
   "cell_type": "markdown",
   "id": "769ab602",
   "metadata": {},
   "source": [
    "### 4. Construct a short word made of separate strings"
   ]
  },
  {
   "cell_type": "code",
   "execution_count": 21,
   "id": "691d4ae2",
   "metadata": {},
   "outputs": [],
   "source": [
    "a = 'Hello,'"
   ]
  },
  {
   "cell_type": "code",
   "execution_count": 22,
   "id": "e8acd2e5",
   "metadata": {},
   "outputs": [],
   "source": [
    "b = ' world.'"
   ]
  },
  {
   "cell_type": "code",
   "execution_count": 23,
   "id": "789ffb58",
   "metadata": {},
   "outputs": [
    {
     "data": {
      "text/plain": [
       "'Hello, world.'"
      ]
     },
     "execution_count": 23,
     "metadata": {},
     "output_type": "execute_result"
    }
   ],
   "source": [
    "a+b"
   ]
  },
  {
   "cell_type": "markdown",
   "id": "86a021ad",
   "metadata": {},
   "source": [
    "### 5. Construct 2 short sentences made of separate strings"
   ]
  },
  {
   "cell_type": "code",
   "execution_count": 24,
   "id": "d9fd8102",
   "metadata": {},
   "outputs": [],
   "source": [
    "c = 'currently'"
   ]
  },
  {
   "cell_type": "code",
   "execution_count": 25,
   "id": "326fcbbb",
   "metadata": {},
   "outputs": [],
   "source": [
    "d= 'learning'"
   ]
  },
  {
   "cell_type": "code",
   "execution_count": 26,
   "id": "cca2f9c4",
   "metadata": {},
   "outputs": [],
   "source": [
    "e= 'Python'"
   ]
  },
  {
   "cell_type": "code",
   "execution_count": 27,
   "id": "bda07beb",
   "metadata": {},
   "outputs": [
    {
     "data": {
      "text/plain": [
       "'Hello, world. currently learning Python'"
      ]
     },
     "execution_count": 27,
     "metadata": {},
     "output_type": "execute_result"
    }
   ],
   "source": [
    "a+b+' '+c+' '+d+' '+e"
   ]
  },
  {
   "cell_type": "markdown",
   "id": "35f2d556",
   "metadata": {},
   "source": [
    "### 6. Bonus Task"
   ]
  },
  {
   "cell_type": "code",
   "execution_count": 28,
   "id": "a0d8fa4a",
   "metadata": {},
   "outputs": [
    {
     "data": {
      "text/plain": [
       "'coolcoolcoolcoolcoolcoolcoolcoolcoolcoolcoolcoolcoolcoolcoolcoolcoolcoolcoolcoolcoolcoolcoolcoolcoolcoolcoolcoolcoolcoolcoolcoolcoolcoolcoolcoolcoolcoolcoolcoolcoolcoolcoolcoolcoolcoolcoolcoolcoolcoolcoolcoolcoolcoolcoolcoolcoolcoolcoolcoolcoolcoolcoolcoolcoolcoolcoolcoolcoolcoolcoolcoolcoolcoolcoolcoolcoolcoolcoolcoolcoolcoolcoolcoolcoolcoolcoolcoolcoolcoolcoolcoolcoolcoolcoolcoolcoolcoolcoolcool'"
      ]
     },
     "execution_count": 28,
     "metadata": {},
     "output_type": "execute_result"
    }
   ],
   "source": [
    "'cool' *100"
   ]
  },
  {
   "cell_type": "code",
   "execution_count": null,
   "id": "90350f3b",
   "metadata": {},
   "outputs": [],
   "source": []
  }
 ],
 "metadata": {
  "kernelspec": {
   "display_name": "Python 3 (ipykernel)",
   "language": "python",
   "name": "python3"
  },
  "language_info": {
   "codemirror_mode": {
    "name": "ipython",
    "version": 3
   },
   "file_extension": ".py",
   "mimetype": "text/x-python",
   "name": "python",
   "nbconvert_exporter": "python",
   "pygments_lexer": "ipython3",
   "version": "3.9.13"
  }
 },
 "nbformat": 4,
 "nbformat_minor": 5
}
