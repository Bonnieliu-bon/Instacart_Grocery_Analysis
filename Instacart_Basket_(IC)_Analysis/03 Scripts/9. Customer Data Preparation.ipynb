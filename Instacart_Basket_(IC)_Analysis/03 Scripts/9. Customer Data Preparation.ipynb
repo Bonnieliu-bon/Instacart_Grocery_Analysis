{
 "cells": [
  {
   "cell_type": "markdown",
   "id": "d9004419",
   "metadata": {},
   "source": [
    "# 9. Customer Data Preparation\n",
    "#### _Clean customer data and combine it with the rest of prepared Instacart data_\n",
    "## Table of contents\n",
    "***\n",
    "\n",
    "**`1. Import libraries`**<br/>\n",
    "\n",
    "**`2. Create path and import data`**<br/>\n",
    "\n",
    "**`3. Data wrangling`**<br/>\n",
    "    - Column format unification<br/>\n",
    "    - Conver column data types<br/>\n",
    "    - Drop unnecessary columns<br/>\n",
    "\n",
    "\n",
    "**`4. Data consistency check`**<br/>\n",
    "    - Identify mixed-type columns<br/>\n",
    "    - Locate missing values (NULL)<br/>\n",
    "    - Locate duplicates<br/>\n",
    "    \n",
    "**`5. Data preparation prior to the merge`**<br/>\n",
    "\n",
    "**`6. Inner merge data`**<br/>\n",
    "\n",
    "**`7. Export data`**\n",
    "\n",
    "***"
   ]
  },
  {
   "cell_type": "markdown",
   "id": "79a33e49",
   "metadata": {},
   "source": [
    "### 1. Import libraries"
   ]
  },
  {
   "cell_type": "code",
   "execution_count": 1,
   "id": "5e072d4c",
   "metadata": {},
   "outputs": [],
   "source": [
    "# Import libraries\n",
    "import pandas as pd\n",
    "import numpy as np\n",
    "import os"
   ]
  },
  {
   "cell_type": "markdown",
   "id": "5929d935",
   "metadata": {},
   "source": [
    "### 2. Create path and import data"
   ]
  },
  {
   "cell_type": "code",
   "execution_count": 2,
   "id": "d4750928",
   "metadata": {},
   "outputs": [],
   "source": [
    "# Create path\n",
    "path = r'/Users/bonnieandbanana/Desktop/A New Career/CareerFoundry/Data Immersion/A4_Python/ Instacart Basket Analysis Project (IC)'\n",
    "\n",
    "# Import customers data\n",
    "df_cus = pd.read_csv(os.path.join(path, '02 data' , 'original data' , 'customers.csv'), index_col = False)"
   ]
  },
  {
   "cell_type": "code",
   "execution_count": 3,
   "id": "b33f1e83",
   "metadata": {},
   "outputs": [
    {
     "name": "stdout",
     "output_type": "stream",
     "text": [
      "<class 'pandas.core.frame.DataFrame'>\n",
      "RangeIndex: 206209 entries, 0 to 206208\n",
      "Data columns (total 10 columns):\n",
      " #   Column        Non-Null Count   Dtype \n",
      "---  ------        --------------   ----- \n",
      " 0   user_id       206209 non-null  int64 \n",
      " 1   First Name    194950 non-null  object\n",
      " 2   Surnam        206209 non-null  object\n",
      " 3   Gender        206209 non-null  object\n",
      " 4   STATE         206209 non-null  object\n",
      " 5   Age           206209 non-null  int64 \n",
      " 6   date_joined   206209 non-null  object\n",
      " 7   n_dependants  206209 non-null  int64 \n",
      " 8   fam_status    206209 non-null  object\n",
      " 9   income        206209 non-null  int64 \n",
      "dtypes: int64(4), object(6)\n",
      "memory usage: 15.7+ MB\n"
     ]
    }
   ],
   "source": [
    "# Check data info\n",
    "df_cus.info()"
   ]
  },
  {
   "cell_type": "markdown",
   "id": "30866e3b",
   "metadata": {},
   "source": [
    "**Obervation:**<br/>\n",
    "*`Data wrangling`* <br/>\n",
    "     - Column formats are not unified.<br/>\n",
    "     - All variables provide essential information for the analysis, there's no need to drop any columns.<br/>\n",
    "     - Column 'user_id' and 'age' are considered as categorical variables rather than numerical variables, they should be converted into 'string' values.<br/>\n",
    "<br/>\n",
    "*`Data consistency check`*<br/>\n",
    "    - In column 'First Name', the non-null value count does not match with the rest of the columns. It is suspected that there're null values present in the column that should be investigated.<br/>"
   ]
  },
  {
   "cell_type": "code",
   "execution_count": 4,
   "id": "d16ad6a5",
   "metadata": {},
   "outputs": [
    {
     "data": {
      "text/html": [
       "<div>\n",
       "<style scoped>\n",
       "    .dataframe tbody tr th:only-of-type {\n",
       "        vertical-align: middle;\n",
       "    }\n",
       "\n",
       "    .dataframe tbody tr th {\n",
       "        vertical-align: top;\n",
       "    }\n",
       "\n",
       "    .dataframe thead th {\n",
       "        text-align: right;\n",
       "    }\n",
       "</style>\n",
       "<table border=\"1\" class=\"dataframe\">\n",
       "  <thead>\n",
       "    <tr style=\"text-align: right;\">\n",
       "      <th></th>\n",
       "      <th>user_id</th>\n",
       "      <th>First Name</th>\n",
       "      <th>Surnam</th>\n",
       "      <th>Gender</th>\n",
       "      <th>STATE</th>\n",
       "      <th>Age</th>\n",
       "      <th>date_joined</th>\n",
       "      <th>n_dependants</th>\n",
       "      <th>fam_status</th>\n",
       "      <th>income</th>\n",
       "    </tr>\n",
       "  </thead>\n",
       "  <tbody>\n",
       "    <tr>\n",
       "      <th>0</th>\n",
       "      <td>26711</td>\n",
       "      <td>Deborah</td>\n",
       "      <td>Esquivel</td>\n",
       "      <td>Female</td>\n",
       "      <td>Missouri</td>\n",
       "      <td>48</td>\n",
       "      <td>1/1/2017</td>\n",
       "      <td>3</td>\n",
       "      <td>married</td>\n",
       "      <td>165665</td>\n",
       "    </tr>\n",
       "    <tr>\n",
       "      <th>1</th>\n",
       "      <td>33890</td>\n",
       "      <td>Patricia</td>\n",
       "      <td>Hart</td>\n",
       "      <td>Female</td>\n",
       "      <td>New Mexico</td>\n",
       "      <td>36</td>\n",
       "      <td>1/1/2017</td>\n",
       "      <td>0</td>\n",
       "      <td>single</td>\n",
       "      <td>59285</td>\n",
       "    </tr>\n",
       "    <tr>\n",
       "      <th>2</th>\n",
       "      <td>65803</td>\n",
       "      <td>Kenneth</td>\n",
       "      <td>Farley</td>\n",
       "      <td>Male</td>\n",
       "      <td>Idaho</td>\n",
       "      <td>35</td>\n",
       "      <td>1/1/2017</td>\n",
       "      <td>2</td>\n",
       "      <td>married</td>\n",
       "      <td>99568</td>\n",
       "    </tr>\n",
       "    <tr>\n",
       "      <th>3</th>\n",
       "      <td>125935</td>\n",
       "      <td>Michelle</td>\n",
       "      <td>Hicks</td>\n",
       "      <td>Female</td>\n",
       "      <td>Iowa</td>\n",
       "      <td>40</td>\n",
       "      <td>1/1/2017</td>\n",
       "      <td>0</td>\n",
       "      <td>single</td>\n",
       "      <td>42049</td>\n",
       "    </tr>\n",
       "    <tr>\n",
       "      <th>4</th>\n",
       "      <td>130797</td>\n",
       "      <td>Ann</td>\n",
       "      <td>Gilmore</td>\n",
       "      <td>Female</td>\n",
       "      <td>Maryland</td>\n",
       "      <td>26</td>\n",
       "      <td>1/1/2017</td>\n",
       "      <td>1</td>\n",
       "      <td>married</td>\n",
       "      <td>40374</td>\n",
       "    </tr>\n",
       "  </tbody>\n",
       "</table>\n",
       "</div>"
      ],
      "text/plain": [
       "   user_id First Name    Surnam  Gender       STATE  Age date_joined  \\\n",
       "0    26711    Deborah  Esquivel  Female    Missouri   48    1/1/2017   \n",
       "1    33890   Patricia      Hart  Female  New Mexico   36    1/1/2017   \n",
       "2    65803    Kenneth    Farley    Male       Idaho   35    1/1/2017   \n",
       "3   125935   Michelle     Hicks  Female        Iowa   40    1/1/2017   \n",
       "4   130797        Ann   Gilmore  Female    Maryland   26    1/1/2017   \n",
       "\n",
       "   n_dependants fam_status  income  \n",
       "0             3    married  165665  \n",
       "1             0     single   59285  \n",
       "2             2    married   99568  \n",
       "3             0     single   42049  \n",
       "4             1    married   40374  "
      ]
     },
     "execution_count": 4,
     "metadata": {},
     "output_type": "execute_result"
    }
   ],
   "source": [
    "# Check data shape\n",
    "df_cus.head()"
   ]
  },
  {
   "cell_type": "markdown",
   "id": "bfc0fa04",
   "metadata": {},
   "source": [
    "### 3. Data wrangling"
   ]
  },
  {
   "cell_type": "markdown",
   "id": "82303812",
   "metadata": {},
   "source": [
    "#### _Column format unification_"
   ]
  },
  {
   "cell_type": "code",
   "execution_count": 5,
   "id": "7f918b4e",
   "metadata": {},
   "outputs": [],
   "source": [
    "# Rename columns\n",
    "df_cus = df_cus.rename(columns = {'First Name':'first_name' , 'Surnam':'surname' , 'Gender':'gender' , 'STATE':'state' , 'Age':'age' , 'dependants':'n_dependants', 'fam_status':'marital_status'})"
   ]
  },
  {
   "cell_type": "code",
   "execution_count": 6,
   "id": "d174956b",
   "metadata": {},
   "outputs": [
    {
     "data": {
      "text/html": [
       "<div>\n",
       "<style scoped>\n",
       "    .dataframe tbody tr th:only-of-type {\n",
       "        vertical-align: middle;\n",
       "    }\n",
       "\n",
       "    .dataframe tbody tr th {\n",
       "        vertical-align: top;\n",
       "    }\n",
       "\n",
       "    .dataframe thead th {\n",
       "        text-align: right;\n",
       "    }\n",
       "</style>\n",
       "<table border=\"1\" class=\"dataframe\">\n",
       "  <thead>\n",
       "    <tr style=\"text-align: right;\">\n",
       "      <th></th>\n",
       "      <th>user_id</th>\n",
       "      <th>first_name</th>\n",
       "      <th>surname</th>\n",
       "      <th>gender</th>\n",
       "      <th>state</th>\n",
       "      <th>age</th>\n",
       "      <th>date_joined</th>\n",
       "      <th>n_dependants</th>\n",
       "      <th>marital_status</th>\n",
       "      <th>income</th>\n",
       "    </tr>\n",
       "  </thead>\n",
       "  <tbody>\n",
       "    <tr>\n",
       "      <th>0</th>\n",
       "      <td>26711</td>\n",
       "      <td>Deborah</td>\n",
       "      <td>Esquivel</td>\n",
       "      <td>Female</td>\n",
       "      <td>Missouri</td>\n",
       "      <td>48</td>\n",
       "      <td>1/1/2017</td>\n",
       "      <td>3</td>\n",
       "      <td>married</td>\n",
       "      <td>165665</td>\n",
       "    </tr>\n",
       "    <tr>\n",
       "      <th>1</th>\n",
       "      <td>33890</td>\n",
       "      <td>Patricia</td>\n",
       "      <td>Hart</td>\n",
       "      <td>Female</td>\n",
       "      <td>New Mexico</td>\n",
       "      <td>36</td>\n",
       "      <td>1/1/2017</td>\n",
       "      <td>0</td>\n",
       "      <td>single</td>\n",
       "      <td>59285</td>\n",
       "    </tr>\n",
       "    <tr>\n",
       "      <th>2</th>\n",
       "      <td>65803</td>\n",
       "      <td>Kenneth</td>\n",
       "      <td>Farley</td>\n",
       "      <td>Male</td>\n",
       "      <td>Idaho</td>\n",
       "      <td>35</td>\n",
       "      <td>1/1/2017</td>\n",
       "      <td>2</td>\n",
       "      <td>married</td>\n",
       "      <td>99568</td>\n",
       "    </tr>\n",
       "    <tr>\n",
       "      <th>3</th>\n",
       "      <td>125935</td>\n",
       "      <td>Michelle</td>\n",
       "      <td>Hicks</td>\n",
       "      <td>Female</td>\n",
       "      <td>Iowa</td>\n",
       "      <td>40</td>\n",
       "      <td>1/1/2017</td>\n",
       "      <td>0</td>\n",
       "      <td>single</td>\n",
       "      <td>42049</td>\n",
       "    </tr>\n",
       "    <tr>\n",
       "      <th>4</th>\n",
       "      <td>130797</td>\n",
       "      <td>Ann</td>\n",
       "      <td>Gilmore</td>\n",
       "      <td>Female</td>\n",
       "      <td>Maryland</td>\n",
       "      <td>26</td>\n",
       "      <td>1/1/2017</td>\n",
       "      <td>1</td>\n",
       "      <td>married</td>\n",
       "      <td>40374</td>\n",
       "    </tr>\n",
       "  </tbody>\n",
       "</table>\n",
       "</div>"
      ],
      "text/plain": [
       "   user_id first_name   surname  gender       state  age date_joined  \\\n",
       "0    26711    Deborah  Esquivel  Female    Missouri   48    1/1/2017   \n",
       "1    33890   Patricia      Hart  Female  New Mexico   36    1/1/2017   \n",
       "2    65803    Kenneth    Farley    Male       Idaho   35    1/1/2017   \n",
       "3   125935   Michelle     Hicks  Female        Iowa   40    1/1/2017   \n",
       "4   130797        Ann   Gilmore  Female    Maryland   26    1/1/2017   \n",
       "\n",
       "   n_dependants marital_status  income  \n",
       "0             3        married  165665  \n",
       "1             0         single   59285  \n",
       "2             2        married   99568  \n",
       "3             0         single   42049  \n",
       "4             1        married   40374  "
      ]
     },
     "execution_count": 6,
     "metadata": {},
     "output_type": "execute_result"
    }
   ],
   "source": [
    "# Check output\n",
    "df_cus.head()"
   ]
  },
  {
   "cell_type": "markdown",
   "id": "8a7a85aa",
   "metadata": {},
   "source": [
    "**Observation:** <br/>\n",
    "The format of all columns are uniformized."
   ]
  },
  {
   "cell_type": "markdown",
   "id": "aa7879e7",
   "metadata": {},
   "source": [
    "#### _Convert column data types_"
   ]
  },
  {
   "cell_type": "code",
   "execution_count": 7,
   "id": "d9d4746a",
   "metadata": {},
   "outputs": [],
   "source": [
    "# Convert data type for column user_id from numerical to string\n",
    "df_cus['user_id'] = df_cus['user_id'].astype('str')"
   ]
  },
  {
   "cell_type": "code",
   "execution_count": 8,
   "id": "068a9944",
   "metadata": {},
   "outputs": [],
   "source": [
    "# Convert data type for column user_id from numerical to string\n",
    "df_cus['age'] = df_cus['age'].astype('str')"
   ]
  },
  {
   "cell_type": "code",
   "execution_count": 9,
   "id": "e1ddf698",
   "metadata": {},
   "outputs": [
    {
     "name": "stdout",
     "output_type": "stream",
     "text": [
      "<class 'pandas.core.frame.DataFrame'>\n",
      "RangeIndex: 206209 entries, 0 to 206208\n",
      "Data columns (total 10 columns):\n",
      " #   Column          Non-Null Count   Dtype \n",
      "---  ------          --------------   ----- \n",
      " 0   user_id         206209 non-null  object\n",
      " 1   first_name      194950 non-null  object\n",
      " 2   surname         206209 non-null  object\n",
      " 3   gender          206209 non-null  object\n",
      " 4   state           206209 non-null  object\n",
      " 5   age             206209 non-null  object\n",
      " 6   date_joined     206209 non-null  object\n",
      " 7   n_dependants    206209 non-null  int64 \n",
      " 8   marital_status  206209 non-null  object\n",
      " 9   income          206209 non-null  int64 \n",
      "dtypes: int64(2), object(8)\n",
      "memory usage: 15.7+ MB\n"
     ]
    }
   ],
   "source": [
    "# Check results\n",
    "df_cus.info()"
   ]
  },
  {
   "cell_type": "markdown",
   "id": "22d53e5c",
   "metadata": {},
   "source": [
    "**Obersvation:**\n",
    "Data types of 'user_id' and 'age' are converted into 'Object' from 'inte64'. (string in Python)"
   ]
  },
  {
   "cell_type": "markdown",
   "id": "55d29218",
   "metadata": {},
   "source": [
    "#### *Drop unnecessary columns*<br/>\n",
    "- All variables provide essential information for the analysis, there's no need to drop any columns."
   ]
  },
  {
   "cell_type": "code",
   "execution_count": 16,
   "id": "d30fe1dd",
   "metadata": {},
   "outputs": [],
   "source": [
    "# Downsize data\n",
    "df_cus = df_cus.astype({col: 'int32' for col in df_cus.select_dtypes('int64').columns})"
   ]
  },
  {
   "cell_type": "code",
   "execution_count": 17,
   "id": "6eaa2722",
   "metadata": {},
   "outputs": [
    {
     "name": "stdout",
     "output_type": "stream",
     "text": [
      "<class 'pandas.core.frame.DataFrame'>\n",
      "RangeIndex: 206209 entries, 0 to 206208\n",
      "Data columns (total 10 columns):\n",
      " #   Column          Non-Null Count   Dtype \n",
      "---  ------          --------------   ----- \n",
      " 0   user_id         206209 non-null  object\n",
      " 1   first_name      194950 non-null  object\n",
      " 2   surname         206209 non-null  object\n",
      " 3   gender          206209 non-null  object\n",
      " 4   state           206209 non-null  object\n",
      " 5   age             206209 non-null  object\n",
      " 6   date_joined     206209 non-null  object\n",
      " 7   n_dependants    206209 non-null  int32 \n",
      " 8   marital_status  206209 non-null  object\n",
      " 9   income          206209 non-null  int32 \n",
      "dtypes: int32(2), object(8)\n",
      "memory usage: 14.2+ MB\n"
     ]
    }
   ],
   "source": [
    "# Check results\n",
    "df_cus.info()"
   ]
  },
  {
   "cell_type": "markdown",
   "id": "fc05ea9f",
   "metadata": {},
   "source": [
    "### 4. Data consistency check using for-loops"
   ]
  },
  {
   "cell_type": "markdown",
   "id": "3e3fac5a",
   "metadata": {},
   "source": [
    "#### *Identify mixed-type columns*"
   ]
  },
  {
   "cell_type": "code",
   "execution_count": 18,
   "id": "eb954aa6",
   "metadata": {},
   "outputs": [
    {
     "name": "stdout",
     "output_type": "stream",
     "text": [
      "first_name\n"
     ]
    }
   ],
   "source": [
    "for col in df_cus.columns.tolist():\n",
    "    weird = (df_cus[[col]] . applymap(type) != df_cus [[col]] . iloc[0] . apply(type)) . any(axis = 1)\n",
    "    if len (df_cus [weird]) > 0 :\n",
    "             print (col)"
   ]
  },
  {
   "cell_type": "markdown",
   "id": "a0076a3b",
   "metadata": {},
   "source": [
    "**Observation:**<br/>\n",
    "The column 'first_name' contains mixed-type values."
   ]
  },
  {
   "cell_type": "code",
   "execution_count": 19,
   "id": "76e83bb0",
   "metadata": {},
   "outputs": [],
   "source": [
    "# Convert 'first_name' column data type to 'string'\n",
    "df_cus['first_name'] = df_cus['first_name'].astype('str')"
   ]
  },
  {
   "cell_type": "code",
   "execution_count": 20,
   "id": "00d671db",
   "metadata": {},
   "outputs": [],
   "source": [
    "# Check results\n",
    "for col in df_cus.columns.tolist():\n",
    "    weird = (df_cus[[col]] . applymap(type) != df_cus [[col]] . iloc[0] . apply(type)) . any(axis = 1)\n",
    "    if len (df_cus [weird]) > 0 :\n",
    "             print (col)"
   ]
  },
  {
   "cell_type": "markdown",
   "id": "89880037",
   "metadata": {},
   "source": [
    "**Observation:**\n",
    "Mixed-type data in column 'first_name' is fixed."
   ]
  },
  {
   "cell_type": "markdown",
   "id": "e624c079",
   "metadata": {},
   "source": [
    "#### *Locate missing values*"
   ]
  },
  {
   "cell_type": "code",
   "execution_count": 21,
   "id": "b604024e",
   "metadata": {},
   "outputs": [
    {
     "data": {
      "text/plain": [
       "user_id           0\n",
       "first_name        0\n",
       "surname           0\n",
       "gender            0\n",
       "state             0\n",
       "age               0\n",
       "date_joined       0\n",
       "n_dependants      0\n",
       "marital_status    0\n",
       "income            0\n",
       "dtype: int64"
      ]
     },
     "execution_count": 21,
     "metadata": {},
     "output_type": "execute_result"
    }
   ],
   "source": [
    "# Check if there's anynull values in the dataframe\n",
    "df_cus.isnull().sum()"
   ]
  },
  {
   "cell_type": "markdown",
   "id": "b44ac418",
   "metadata": {},
   "source": [
    "**Appropriate method evaluation**<br/>\n",
    "After mixed-type values are fixed in colmun 'first_name', there's no more missing values in the dataframe."
   ]
  },
  {
   "cell_type": "code",
   "execution_count": 22,
   "id": "aea525af",
   "metadata": {},
   "outputs": [
    {
     "name": "stdout",
     "output_type": "stream",
     "text": [
      "<class 'pandas.core.frame.DataFrame'>\n",
      "RangeIndex: 206209 entries, 0 to 206208\n",
      "Data columns (total 10 columns):\n",
      " #   Column          Non-Null Count   Dtype \n",
      "---  ------          --------------   ----- \n",
      " 0   user_id         206209 non-null  object\n",
      " 1   first_name      206209 non-null  object\n",
      " 2   surname         206209 non-null  object\n",
      " 3   gender          206209 non-null  object\n",
      " 4   state           206209 non-null  object\n",
      " 5   age             206209 non-null  object\n",
      " 6   date_joined     206209 non-null  object\n",
      " 7   n_dependants    206209 non-null  int32 \n",
      " 8   marital_status  206209 non-null  object\n",
      " 9   income          206209 non-null  int32 \n",
      "dtypes: int32(2), object(8)\n",
      "memory usage: 14.2+ MB\n"
     ]
    }
   ],
   "source": [
    "# Cross check the results\n",
    "df_cus.info()"
   ]
  },
  {
   "cell_type": "markdown",
   "id": "10de3fff",
   "metadata": {},
   "source": [
    "#### *Locate duplicates*"
   ]
  },
  {
   "cell_type": "code",
   "execution_count": 23,
   "id": "deae5c7b",
   "metadata": {},
   "outputs": [],
   "source": [
    "# Create a subset that only contains duplicates\n",
    "df_dups = df_cus[df_cus.duplicated()]"
   ]
  },
  {
   "cell_type": "code",
   "execution_count": 24,
   "id": "c67f4133",
   "metadata": {},
   "outputs": [
    {
     "data": {
      "text/html": [
       "<div>\n",
       "<style scoped>\n",
       "    .dataframe tbody tr th:only-of-type {\n",
       "        vertical-align: middle;\n",
       "    }\n",
       "\n",
       "    .dataframe tbody tr th {\n",
       "        vertical-align: top;\n",
       "    }\n",
       "\n",
       "    .dataframe thead th {\n",
       "        text-align: right;\n",
       "    }\n",
       "</style>\n",
       "<table border=\"1\" class=\"dataframe\">\n",
       "  <thead>\n",
       "    <tr style=\"text-align: right;\">\n",
       "      <th></th>\n",
       "      <th>user_id</th>\n",
       "      <th>first_name</th>\n",
       "      <th>surname</th>\n",
       "      <th>gender</th>\n",
       "      <th>state</th>\n",
       "      <th>age</th>\n",
       "      <th>date_joined</th>\n",
       "      <th>n_dependants</th>\n",
       "      <th>marital_status</th>\n",
       "      <th>income</th>\n",
       "    </tr>\n",
       "  </thead>\n",
       "  <tbody>\n",
       "  </tbody>\n",
       "</table>\n",
       "</div>"
      ],
      "text/plain": [
       "Empty DataFrame\n",
       "Columns: [user_id, first_name, surname, gender, state, age, date_joined, n_dependants, marital_status, income]\n",
       "Index: []"
      ]
     },
     "execution_count": 24,
     "metadata": {},
     "output_type": "execute_result"
    }
   ],
   "source": [
    "# Check the subset\n",
    "df_dups"
   ]
  },
  {
   "cell_type": "markdown",
   "id": "c503f0b9",
   "metadata": {},
   "source": [
    "**Observation:**<br/>\n",
    "There's no duplicates exist in the dataframe."
   ]
  },
  {
   "cell_type": "code",
   "execution_count": 25,
   "id": "7459d895",
   "metadata": {},
   "outputs": [
    {
     "data": {
      "text/plain": [
       "Male      104067\n",
       "Female    102142\n",
       "Name: gender, dtype: int64"
      ]
     },
     "execution_count": 25,
     "metadata": {},
     "output_type": "execute_result"
    }
   ],
   "source": [
    "# Check value frequency in gender column\n",
    "df_cus['gender'].value_counts(dropna = False)"
   ]
  },
  {
   "cell_type": "markdown",
   "id": "8bcb2774",
   "metadata": {},
   "source": [
    "**Observation:**<br/>\n",
    "This steps is to make sure whether there's more different types of gender in the column, such as, nonbinary, bisexual, transgender,etc."
   ]
  },
  {
   "cell_type": "markdown",
   "id": "9d6b47b6",
   "metadata": {},
   "source": [
    "### 5. Data preparation prior to the merge"
   ]
  },
  {
   "cell_type": "code",
   "execution_count": 26,
   "id": "51372471",
   "metadata": {},
   "outputs": [],
   "source": [
    "# Import the other prepared Instacart data\n",
    "ords_prods = pd.read_pickle (os.path.join(path, '02 data' , 'prepared data' , 'ords_prods_aggregated.pkl'))"
   ]
  },
  {
   "cell_type": "code",
   "execution_count": 27,
   "id": "0eee0ccb",
   "metadata": {},
   "outputs": [
    {
     "name": "stdout",
     "output_type": "stream",
     "text": [
      "<class 'pandas.core.frame.DataFrame'>\n",
      "Int64Index: 32404859 entries, 0 to 32404858\n",
      "Data columns (total 26 columns):\n",
      " #   Column                     Dtype   \n",
      "---  ------                     -----   \n",
      " 0   order_id                   int64   \n",
      " 1   user_id                    int64   \n",
      " 2   order_number               int64   \n",
      " 3   order_day_of_the_week      int64   \n",
      " 4   order_hour_of_day          int64   \n",
      " 5   days_since_last_order      float64 \n",
      " 6   first_order                bool    \n",
      " 7   product_id                 int64   \n",
      " 8   add_to_cart_order          int64   \n",
      " 9   reordered                  int64   \n",
      " 10  _merge                     category\n",
      " 11  product_name               object  \n",
      " 12  aisle_id                   int64   \n",
      " 13  department_id              int64   \n",
      " 14  prices                     float64 \n",
      " 15  match                      category\n",
      " 16  price_range_loc            object  \n",
      " 17  busiest_day                object  \n",
      " 18  busiest days               object  \n",
      " 19  busiest_period_of_the_day  object  \n",
      " 20  max_order                  int64   \n",
      " 21  loyalty_flag               object  \n",
      " 22  avg_order_price            float64 \n",
      " 23  spending_flag              object  \n",
      " 24  median_of_regularity       float64 \n",
      " 25  order_frequency_flag       object  \n",
      "dtypes: bool(1), category(2), float64(4), int64(11), object(8)\n",
      "memory usage: 5.9+ GB\n"
     ]
    }
   ],
   "source": [
    "ords_prods.info()"
   ]
  },
  {
   "cell_type": "code",
   "execution_count": 30,
   "id": "17532f84",
   "metadata": {},
   "outputs": [],
   "source": [
    "# Downsize dataframe by converting data type \n",
    "ords_prods = ords_prods.astype({col: 'int32' for col in ords_prods.select_dtypes('int64').columns})"
   ]
  },
  {
   "cell_type": "code",
   "execution_count": 35,
   "id": "aca1a226",
   "metadata": {},
   "outputs": [],
   "source": [
    "# Convert data type \n",
    "ords_prods = ords_prods.astype({'order_number':'int16', 'order_day_of_the_week':'int16', 'order_hour_of_day':'int16', 'days_since_last_order':'float16', 'department_id':'int16', 'prices':'float16','aisle_id':'int16', 'max_order':'int16','avg_order_price':'float32','median_of_regularity':'float16'})"
   ]
  },
  {
   "cell_type": "code",
   "execution_count": 36,
   "id": "b8a70d9f",
   "metadata": {},
   "outputs": [
    {
     "name": "stdout",
     "output_type": "stream",
     "text": [
      "<class 'pandas.core.frame.DataFrame'>\n",
      "Int64Index: 32404859 entries, 0 to 32404858\n",
      "Data columns (total 26 columns):\n",
      " #   Column                     Dtype   \n",
      "---  ------                     -----   \n",
      " 0   order_id                   int32   \n",
      " 1   user_id                    int32   \n",
      " 2   order_number               int16   \n",
      " 3   order_day_of_the_week      int16   \n",
      " 4   order_hour_of_day          int16   \n",
      " 5   days_since_last_order      float16 \n",
      " 6   first_order                bool    \n",
      " 7   product_id                 int32   \n",
      " 8   add_to_cart_order          int32   \n",
      " 9   reordered                  int32   \n",
      " 10  _merge                     category\n",
      " 11  product_name               object  \n",
      " 12  aisle_id                   int16   \n",
      " 13  department_id              int16   \n",
      " 14  prices                     float16 \n",
      " 15  match                      category\n",
      " 16  price_range_loc            object  \n",
      " 17  busiest_day                object  \n",
      " 18  busiest days               object  \n",
      " 19  busiest_period_of_the_day  object  \n",
      " 20  max_order                  int16   \n",
      " 21  loyalty_flag               object  \n",
      " 22  avg_order_price            float32 \n",
      " 23  spending_flag              object  \n",
      " 24  median_of_regularity       float16 \n",
      " 25  order_frequency_flag       object  \n",
      "dtypes: bool(1), category(2), float16(3), float32(1), int16(6), int32(5), object(8)\n",
      "memory usage: 3.5+ GB\n"
     ]
    }
   ],
   "source": [
    "# Check output\n",
    "ords_prods.info()"
   ]
  },
  {
   "cell_type": "markdown",
   "id": "1a54aacf",
   "metadata": {},
   "source": [
    "**Observation:**<br/>\n",
    "The memory usage of ords_prods dataframe has been successfully downsized from 5.9GB to 3.5GB."
   ]
  },
  {
   "cell_type": "code",
   "execution_count": 37,
   "id": "243c1949",
   "metadata": {},
   "outputs": [
    {
     "data": {
      "text/plain": [
       "(32404859, 26)"
      ]
     },
     "execution_count": 37,
     "metadata": {},
     "output_type": "execute_result"
    }
   ],
   "source": [
    "# Check the shape of newly imported dataframe\n",
    "ords_prods.shape"
   ]
  },
  {
   "cell_type": "code",
   "execution_count": 38,
   "id": "3aae46f4",
   "metadata": {},
   "outputs": [
    {
     "data": {
      "text/plain": [
       "(206209, 10)"
      ]
     },
     "execution_count": 38,
     "metadata": {},
     "output_type": "execute_result"
    }
   ],
   "source": [
    "# Check the shape of df_cus dataframe\n",
    "df_cus.shape"
   ]
  },
  {
   "cell_type": "code",
   "execution_count": 39,
   "id": "3b3cc522",
   "metadata": {},
   "outputs": [
    {
     "data": {
      "text/html": [
       "<div>\n",
       "<style scoped>\n",
       "    .dataframe tbody tr th:only-of-type {\n",
       "        vertical-align: middle;\n",
       "    }\n",
       "\n",
       "    .dataframe tbody tr th {\n",
       "        vertical-align: top;\n",
       "    }\n",
       "\n",
       "    .dataframe thead th {\n",
       "        text-align: right;\n",
       "    }\n",
       "</style>\n",
       "<table border=\"1\" class=\"dataframe\">\n",
       "  <thead>\n",
       "    <tr style=\"text-align: right;\">\n",
       "      <th></th>\n",
       "      <th>order_id</th>\n",
       "      <th>user_id</th>\n",
       "      <th>order_number</th>\n",
       "      <th>order_day_of_the_week</th>\n",
       "      <th>order_hour_of_day</th>\n",
       "      <th>days_since_last_order</th>\n",
       "      <th>first_order</th>\n",
       "      <th>product_id</th>\n",
       "      <th>add_to_cart_order</th>\n",
       "      <th>reordered</th>\n",
       "      <th>...</th>\n",
       "      <th>price_range_loc</th>\n",
       "      <th>busiest_day</th>\n",
       "      <th>busiest days</th>\n",
       "      <th>busiest_period_of_the_day</th>\n",
       "      <th>max_order</th>\n",
       "      <th>loyalty_flag</th>\n",
       "      <th>avg_order_price</th>\n",
       "      <th>spending_flag</th>\n",
       "      <th>median_of_regularity</th>\n",
       "      <th>order_frequency_flag</th>\n",
       "    </tr>\n",
       "  </thead>\n",
       "  <tbody>\n",
       "    <tr>\n",
       "      <th>0</th>\n",
       "      <td>2539329</td>\n",
       "      <td>1</td>\n",
       "      <td>1</td>\n",
       "      <td>2</td>\n",
       "      <td>8</td>\n",
       "      <td>NaN</td>\n",
       "      <td>True</td>\n",
       "      <td>196</td>\n",
       "      <td>1</td>\n",
       "      <td>0</td>\n",
       "      <td>...</td>\n",
       "      <td>Mid-range product</td>\n",
       "      <td>Regularly busy</td>\n",
       "      <td>Regularly busy</td>\n",
       "      <td>Average orders</td>\n",
       "      <td>10</td>\n",
       "      <td>New customer</td>\n",
       "      <td>6.367796</td>\n",
       "      <td>Low spender</td>\n",
       "      <td>20.5</td>\n",
       "      <td>Non-frequent customer</td>\n",
       "    </tr>\n",
       "    <tr>\n",
       "      <th>1</th>\n",
       "      <td>2398795</td>\n",
       "      <td>1</td>\n",
       "      <td>2</td>\n",
       "      <td>3</td>\n",
       "      <td>7</td>\n",
       "      <td>15.0</td>\n",
       "      <td>False</td>\n",
       "      <td>196</td>\n",
       "      <td>1</td>\n",
       "      <td>1</td>\n",
       "      <td>...</td>\n",
       "      <td>Mid-range product</td>\n",
       "      <td>Regularly busy</td>\n",
       "      <td>Slowest days</td>\n",
       "      <td>Average orders</td>\n",
       "      <td>10</td>\n",
       "      <td>New customer</td>\n",
       "      <td>6.367796</td>\n",
       "      <td>Low spender</td>\n",
       "      <td>20.5</td>\n",
       "      <td>Non-frequent customer</td>\n",
       "    </tr>\n",
       "    <tr>\n",
       "      <th>2</th>\n",
       "      <td>473747</td>\n",
       "      <td>1</td>\n",
       "      <td>3</td>\n",
       "      <td>3</td>\n",
       "      <td>12</td>\n",
       "      <td>21.0</td>\n",
       "      <td>False</td>\n",
       "      <td>196</td>\n",
       "      <td>1</td>\n",
       "      <td>1</td>\n",
       "      <td>...</td>\n",
       "      <td>Mid-range product</td>\n",
       "      <td>Regularly busy</td>\n",
       "      <td>Slowest days</td>\n",
       "      <td>Most orders</td>\n",
       "      <td>10</td>\n",
       "      <td>New customer</td>\n",
       "      <td>6.367796</td>\n",
       "      <td>Low spender</td>\n",
       "      <td>20.5</td>\n",
       "      <td>Non-frequent customer</td>\n",
       "    </tr>\n",
       "    <tr>\n",
       "      <th>3</th>\n",
       "      <td>2254736</td>\n",
       "      <td>1</td>\n",
       "      <td>4</td>\n",
       "      <td>4</td>\n",
       "      <td>7</td>\n",
       "      <td>29.0</td>\n",
       "      <td>False</td>\n",
       "      <td>196</td>\n",
       "      <td>1</td>\n",
       "      <td>1</td>\n",
       "      <td>...</td>\n",
       "      <td>Mid-range product</td>\n",
       "      <td>Least busy</td>\n",
       "      <td>Slowest days</td>\n",
       "      <td>Average orders</td>\n",
       "      <td>10</td>\n",
       "      <td>New customer</td>\n",
       "      <td>6.367796</td>\n",
       "      <td>Low spender</td>\n",
       "      <td>20.5</td>\n",
       "      <td>Non-frequent customer</td>\n",
       "    </tr>\n",
       "    <tr>\n",
       "      <th>4</th>\n",
       "      <td>431534</td>\n",
       "      <td>1</td>\n",
       "      <td>5</td>\n",
       "      <td>4</td>\n",
       "      <td>15</td>\n",
       "      <td>28.0</td>\n",
       "      <td>False</td>\n",
       "      <td>196</td>\n",
       "      <td>1</td>\n",
       "      <td>1</td>\n",
       "      <td>...</td>\n",
       "      <td>Mid-range product</td>\n",
       "      <td>Least busy</td>\n",
       "      <td>Slowest days</td>\n",
       "      <td>Most orders</td>\n",
       "      <td>10</td>\n",
       "      <td>New customer</td>\n",
       "      <td>6.367796</td>\n",
       "      <td>Low spender</td>\n",
       "      <td>20.5</td>\n",
       "      <td>Non-frequent customer</td>\n",
       "    </tr>\n",
       "  </tbody>\n",
       "</table>\n",
       "<p>5 rows × 26 columns</p>\n",
       "</div>"
      ],
      "text/plain": [
       "   order_id  user_id  order_number  order_day_of_the_week  order_hour_of_day  \\\n",
       "0   2539329        1             1                      2                  8   \n",
       "1   2398795        1             2                      3                  7   \n",
       "2    473747        1             3                      3                 12   \n",
       "3   2254736        1             4                      4                  7   \n",
       "4    431534        1             5                      4                 15   \n",
       "\n",
       "   days_since_last_order  first_order  product_id  add_to_cart_order  \\\n",
       "0                    NaN         True         196                  1   \n",
       "1                   15.0        False         196                  1   \n",
       "2                   21.0        False         196                  1   \n",
       "3                   29.0        False         196                  1   \n",
       "4                   28.0        False         196                  1   \n",
       "\n",
       "   reordered  ...    price_range_loc     busiest_day    busiest days  \\\n",
       "0          0  ...  Mid-range product  Regularly busy  Regularly busy   \n",
       "1          1  ...  Mid-range product  Regularly busy    Slowest days   \n",
       "2          1  ...  Mid-range product  Regularly busy    Slowest days   \n",
       "3          1  ...  Mid-range product      Least busy    Slowest days   \n",
       "4          1  ...  Mid-range product      Least busy    Slowest days   \n",
       "\n",
       "   busiest_period_of_the_day  max_order  loyalty_flag avg_order_price  \\\n",
       "0             Average orders         10  New customer        6.367796   \n",
       "1             Average orders         10  New customer        6.367796   \n",
       "2                Most orders         10  New customer        6.367796   \n",
       "3             Average orders         10  New customer        6.367796   \n",
       "4                Most orders         10  New customer        6.367796   \n",
       "\n",
       "  spending_flag median_of_regularity   order_frequency_flag  \n",
       "0   Low spender                 20.5  Non-frequent customer  \n",
       "1   Low spender                 20.5  Non-frequent customer  \n",
       "2   Low spender                 20.5  Non-frequent customer  \n",
       "3   Low spender                 20.5  Non-frequent customer  \n",
       "4   Low spender                 20.5  Non-frequent customer  \n",
       "\n",
       "[5 rows x 26 columns]"
      ]
     },
     "execution_count": 39,
     "metadata": {},
     "output_type": "execute_result"
    }
   ],
   "source": [
    "# Identify key column in both dataframes\n",
    "ords_prods.head(5)"
   ]
  },
  {
   "cell_type": "code",
   "execution_count": 40,
   "id": "138d6198",
   "metadata": {},
   "outputs": [
    {
     "data": {
      "text/html": [
       "<div>\n",
       "<style scoped>\n",
       "    .dataframe tbody tr th:only-of-type {\n",
       "        vertical-align: middle;\n",
       "    }\n",
       "\n",
       "    .dataframe tbody tr th {\n",
       "        vertical-align: top;\n",
       "    }\n",
       "\n",
       "    .dataframe thead th {\n",
       "        text-align: right;\n",
       "    }\n",
       "</style>\n",
       "<table border=\"1\" class=\"dataframe\">\n",
       "  <thead>\n",
       "    <tr style=\"text-align: right;\">\n",
       "      <th></th>\n",
       "      <th>user_id</th>\n",
       "      <th>first_name</th>\n",
       "      <th>surname</th>\n",
       "      <th>gender</th>\n",
       "      <th>state</th>\n",
       "      <th>age</th>\n",
       "      <th>date_joined</th>\n",
       "      <th>n_dependants</th>\n",
       "      <th>marital_status</th>\n",
       "      <th>income</th>\n",
       "    </tr>\n",
       "  </thead>\n",
       "  <tbody>\n",
       "    <tr>\n",
       "      <th>0</th>\n",
       "      <td>26711</td>\n",
       "      <td>Deborah</td>\n",
       "      <td>Esquivel</td>\n",
       "      <td>Female</td>\n",
       "      <td>Missouri</td>\n",
       "      <td>48</td>\n",
       "      <td>1/1/2017</td>\n",
       "      <td>3</td>\n",
       "      <td>married</td>\n",
       "      <td>165665</td>\n",
       "    </tr>\n",
       "    <tr>\n",
       "      <th>1</th>\n",
       "      <td>33890</td>\n",
       "      <td>Patricia</td>\n",
       "      <td>Hart</td>\n",
       "      <td>Female</td>\n",
       "      <td>New Mexico</td>\n",
       "      <td>36</td>\n",
       "      <td>1/1/2017</td>\n",
       "      <td>0</td>\n",
       "      <td>single</td>\n",
       "      <td>59285</td>\n",
       "    </tr>\n",
       "    <tr>\n",
       "      <th>2</th>\n",
       "      <td>65803</td>\n",
       "      <td>Kenneth</td>\n",
       "      <td>Farley</td>\n",
       "      <td>Male</td>\n",
       "      <td>Idaho</td>\n",
       "      <td>35</td>\n",
       "      <td>1/1/2017</td>\n",
       "      <td>2</td>\n",
       "      <td>married</td>\n",
       "      <td>99568</td>\n",
       "    </tr>\n",
       "    <tr>\n",
       "      <th>3</th>\n",
       "      <td>125935</td>\n",
       "      <td>Michelle</td>\n",
       "      <td>Hicks</td>\n",
       "      <td>Female</td>\n",
       "      <td>Iowa</td>\n",
       "      <td>40</td>\n",
       "      <td>1/1/2017</td>\n",
       "      <td>0</td>\n",
       "      <td>single</td>\n",
       "      <td>42049</td>\n",
       "    </tr>\n",
       "    <tr>\n",
       "      <th>4</th>\n",
       "      <td>130797</td>\n",
       "      <td>Ann</td>\n",
       "      <td>Gilmore</td>\n",
       "      <td>Female</td>\n",
       "      <td>Maryland</td>\n",
       "      <td>26</td>\n",
       "      <td>1/1/2017</td>\n",
       "      <td>1</td>\n",
       "      <td>married</td>\n",
       "      <td>40374</td>\n",
       "    </tr>\n",
       "  </tbody>\n",
       "</table>\n",
       "</div>"
      ],
      "text/plain": [
       "  user_id first_name   surname  gender       state age date_joined  \\\n",
       "0   26711    Deborah  Esquivel  Female    Missouri  48    1/1/2017   \n",
       "1   33890   Patricia      Hart  Female  New Mexico  36    1/1/2017   \n",
       "2   65803    Kenneth    Farley    Male       Idaho  35    1/1/2017   \n",
       "3  125935   Michelle     Hicks  Female        Iowa  40    1/1/2017   \n",
       "4  130797        Ann   Gilmore  Female    Maryland  26    1/1/2017   \n",
       "\n",
       "   n_dependants marital_status  income  \n",
       "0             3        married  165665  \n",
       "1             0         single   59285  \n",
       "2             2        married   99568  \n",
       "3             0         single   42049  \n",
       "4             1        married   40374  "
      ]
     },
     "execution_count": 40,
     "metadata": {},
     "output_type": "execute_result"
    }
   ],
   "source": [
    "df_cus.head(5)"
   ]
  },
  {
   "cell_type": "markdown",
   "id": "e4ecedc0",
   "metadata": {},
   "source": [
    "**Observation:**\n",
    "Column 'user_id' is identified as the key column for the merge."
   ]
  },
  {
   "cell_type": "code",
   "execution_count": 41,
   "id": "615a95f0",
   "metadata": {},
   "outputs": [
    {
     "data": {
      "text/plain": [
       "dtype('int32')"
      ]
     },
     "execution_count": 41,
     "metadata": {},
     "output_type": "execute_result"
    }
   ],
   "source": [
    "# Check the data type of the key column in ords_prods dataframe\n",
    "ords_prods['user_id'].dtype"
   ]
  },
  {
   "cell_type": "code",
   "execution_count": 42,
   "id": "eb5fa40f",
   "metadata": {},
   "outputs": [
    {
     "data": {
      "text/plain": [
       "dtype('O')"
      ]
     },
     "execution_count": 42,
     "metadata": {},
     "output_type": "execute_result"
    }
   ],
   "source": [
    "# Check the data type of the key column in df_cus dataframe\n",
    "df_cus['user_id'].dtype"
   ]
  },
  {
   "cell_type": "code",
   "execution_count": 43,
   "id": "14af6400",
   "metadata": {},
   "outputs": [],
   "source": [
    "# Convert the data type of 'user_id' column in ords_prods dataframe\n",
    "ords_prods['user_id'] = ords_prods['user_id'].astype ('str')"
   ]
  },
  {
   "cell_type": "code",
   "execution_count": 44,
   "id": "f78efe38",
   "metadata": {},
   "outputs": [
    {
     "data": {
      "text/plain": [
       "dtype('O')"
      ]
     },
     "execution_count": 44,
     "metadata": {},
     "output_type": "execute_result"
    }
   ],
   "source": [
    "# Check result\n",
    "ords_prods['user_id'].dtype"
   ]
  },
  {
   "cell_type": "markdown",
   "id": "283cf679",
   "metadata": {},
   "source": [
    "**Observation:**<br/>\n",
    "The data type of the key columns in both dataframes are unified."
   ]
  },
  {
   "cell_type": "markdown",
   "id": "f65014c0",
   "metadata": {},
   "source": [
    "### 6. Inner merge dataframes"
   ]
  },
  {
   "cell_type": "code",
   "execution_count": 45,
   "id": "973a6eb6",
   "metadata": {},
   "outputs": [],
   "source": [
    "# Drop the existing '_merge' column from previous exercises\n",
    "ords_prods = ords_prods.drop(columns=['_merge'])"
   ]
  },
  {
   "cell_type": "code",
   "execution_count": 47,
   "id": "2a95dd9d",
   "metadata": {},
   "outputs": [],
   "source": [
    "ords_prods_cus = ords_prods.merge(df_cus, on = 'user_id' , indicator = True)"
   ]
  },
  {
   "cell_type": "code",
   "execution_count": 48,
   "id": "fdf9e590",
   "metadata": {},
   "outputs": [
    {
     "data": {
      "text/plain": [
       "(32404859, 35)"
      ]
     },
     "execution_count": 48,
     "metadata": {},
     "output_type": "execute_result"
    }
   ],
   "source": [
    "# Check shape of newly merged dataframe\n",
    "ords_prods_cus.shape"
   ]
  },
  {
   "cell_type": "code",
   "execution_count": 52,
   "id": "6f1194cd",
   "metadata": {},
   "outputs": [],
   "source": [
    "pd.options.display.max_columns = None"
   ]
  },
  {
   "cell_type": "code",
   "execution_count": 53,
   "id": "bb5ae524",
   "metadata": {},
   "outputs": [
    {
     "data": {
      "text/html": [
       "<div>\n",
       "<style scoped>\n",
       "    .dataframe tbody tr th:only-of-type {\n",
       "        vertical-align: middle;\n",
       "    }\n",
       "\n",
       "    .dataframe tbody tr th {\n",
       "        vertical-align: top;\n",
       "    }\n",
       "\n",
       "    .dataframe thead th {\n",
       "        text-align: right;\n",
       "    }\n",
       "</style>\n",
       "<table border=\"1\" class=\"dataframe\">\n",
       "  <thead>\n",
       "    <tr style=\"text-align: right;\">\n",
       "      <th></th>\n",
       "      <th>order_id</th>\n",
       "      <th>user_id</th>\n",
       "      <th>order_number</th>\n",
       "      <th>order_day_of_the_week</th>\n",
       "      <th>order_hour_of_day</th>\n",
       "      <th>days_since_last_order</th>\n",
       "      <th>first_order</th>\n",
       "      <th>product_id</th>\n",
       "      <th>add_to_cart_order</th>\n",
       "      <th>reordered</th>\n",
       "      <th>product_name</th>\n",
       "      <th>aisle_id</th>\n",
       "      <th>department_id</th>\n",
       "      <th>prices</th>\n",
       "      <th>match</th>\n",
       "      <th>price_range_loc</th>\n",
       "      <th>busiest_day</th>\n",
       "      <th>busiest days</th>\n",
       "      <th>busiest_period_of_the_day</th>\n",
       "      <th>max_order</th>\n",
       "      <th>loyalty_flag</th>\n",
       "      <th>avg_order_price</th>\n",
       "      <th>spending_flag</th>\n",
       "      <th>median_of_regularity</th>\n",
       "      <th>order_frequency_flag</th>\n",
       "      <th>first_name</th>\n",
       "      <th>surname</th>\n",
       "      <th>gender</th>\n",
       "      <th>state</th>\n",
       "      <th>age</th>\n",
       "      <th>date_joined</th>\n",
       "      <th>n_dependants</th>\n",
       "      <th>marital_status</th>\n",
       "      <th>income</th>\n",
       "      <th>_merge</th>\n",
       "    </tr>\n",
       "  </thead>\n",
       "  <tbody>\n",
       "    <tr>\n",
       "      <th>0</th>\n",
       "      <td>2539329</td>\n",
       "      <td>1</td>\n",
       "      <td>1</td>\n",
       "      <td>2</td>\n",
       "      <td>8</td>\n",
       "      <td>NaN</td>\n",
       "      <td>True</td>\n",
       "      <td>196</td>\n",
       "      <td>1</td>\n",
       "      <td>0</td>\n",
       "      <td>Soda</td>\n",
       "      <td>77</td>\n",
       "      <td>7</td>\n",
       "      <td>9.0</td>\n",
       "      <td>both</td>\n",
       "      <td>Mid-range product</td>\n",
       "      <td>Regularly busy</td>\n",
       "      <td>Regularly busy</td>\n",
       "      <td>Average orders</td>\n",
       "      <td>10</td>\n",
       "      <td>New customer</td>\n",
       "      <td>6.367796</td>\n",
       "      <td>Low spender</td>\n",
       "      <td>20.5</td>\n",
       "      <td>Non-frequent customer</td>\n",
       "      <td>Linda</td>\n",
       "      <td>Nguyen</td>\n",
       "      <td>Female</td>\n",
       "      <td>Alabama</td>\n",
       "      <td>31</td>\n",
       "      <td>2/17/2019</td>\n",
       "      <td>3</td>\n",
       "      <td>married</td>\n",
       "      <td>40423</td>\n",
       "      <td>both</td>\n",
       "    </tr>\n",
       "    <tr>\n",
       "      <th>1</th>\n",
       "      <td>2398795</td>\n",
       "      <td>1</td>\n",
       "      <td>2</td>\n",
       "      <td>3</td>\n",
       "      <td>7</td>\n",
       "      <td>15.0</td>\n",
       "      <td>False</td>\n",
       "      <td>196</td>\n",
       "      <td>1</td>\n",
       "      <td>1</td>\n",
       "      <td>Soda</td>\n",
       "      <td>77</td>\n",
       "      <td>7</td>\n",
       "      <td>9.0</td>\n",
       "      <td>both</td>\n",
       "      <td>Mid-range product</td>\n",
       "      <td>Regularly busy</td>\n",
       "      <td>Slowest days</td>\n",
       "      <td>Average orders</td>\n",
       "      <td>10</td>\n",
       "      <td>New customer</td>\n",
       "      <td>6.367796</td>\n",
       "      <td>Low spender</td>\n",
       "      <td>20.5</td>\n",
       "      <td>Non-frequent customer</td>\n",
       "      <td>Linda</td>\n",
       "      <td>Nguyen</td>\n",
       "      <td>Female</td>\n",
       "      <td>Alabama</td>\n",
       "      <td>31</td>\n",
       "      <td>2/17/2019</td>\n",
       "      <td>3</td>\n",
       "      <td>married</td>\n",
       "      <td>40423</td>\n",
       "      <td>both</td>\n",
       "    </tr>\n",
       "    <tr>\n",
       "      <th>2</th>\n",
       "      <td>473747</td>\n",
       "      <td>1</td>\n",
       "      <td>3</td>\n",
       "      <td>3</td>\n",
       "      <td>12</td>\n",
       "      <td>21.0</td>\n",
       "      <td>False</td>\n",
       "      <td>196</td>\n",
       "      <td>1</td>\n",
       "      <td>1</td>\n",
       "      <td>Soda</td>\n",
       "      <td>77</td>\n",
       "      <td>7</td>\n",
       "      <td>9.0</td>\n",
       "      <td>both</td>\n",
       "      <td>Mid-range product</td>\n",
       "      <td>Regularly busy</td>\n",
       "      <td>Slowest days</td>\n",
       "      <td>Most orders</td>\n",
       "      <td>10</td>\n",
       "      <td>New customer</td>\n",
       "      <td>6.367796</td>\n",
       "      <td>Low spender</td>\n",
       "      <td>20.5</td>\n",
       "      <td>Non-frequent customer</td>\n",
       "      <td>Linda</td>\n",
       "      <td>Nguyen</td>\n",
       "      <td>Female</td>\n",
       "      <td>Alabama</td>\n",
       "      <td>31</td>\n",
       "      <td>2/17/2019</td>\n",
       "      <td>3</td>\n",
       "      <td>married</td>\n",
       "      <td>40423</td>\n",
       "      <td>both</td>\n",
       "    </tr>\n",
       "    <tr>\n",
       "      <th>3</th>\n",
       "      <td>2254736</td>\n",
       "      <td>1</td>\n",
       "      <td>4</td>\n",
       "      <td>4</td>\n",
       "      <td>7</td>\n",
       "      <td>29.0</td>\n",
       "      <td>False</td>\n",
       "      <td>196</td>\n",
       "      <td>1</td>\n",
       "      <td>1</td>\n",
       "      <td>Soda</td>\n",
       "      <td>77</td>\n",
       "      <td>7</td>\n",
       "      <td>9.0</td>\n",
       "      <td>both</td>\n",
       "      <td>Mid-range product</td>\n",
       "      <td>Least busy</td>\n",
       "      <td>Slowest days</td>\n",
       "      <td>Average orders</td>\n",
       "      <td>10</td>\n",
       "      <td>New customer</td>\n",
       "      <td>6.367796</td>\n",
       "      <td>Low spender</td>\n",
       "      <td>20.5</td>\n",
       "      <td>Non-frequent customer</td>\n",
       "      <td>Linda</td>\n",
       "      <td>Nguyen</td>\n",
       "      <td>Female</td>\n",
       "      <td>Alabama</td>\n",
       "      <td>31</td>\n",
       "      <td>2/17/2019</td>\n",
       "      <td>3</td>\n",
       "      <td>married</td>\n",
       "      <td>40423</td>\n",
       "      <td>both</td>\n",
       "    </tr>\n",
       "    <tr>\n",
       "      <th>4</th>\n",
       "      <td>431534</td>\n",
       "      <td>1</td>\n",
       "      <td>5</td>\n",
       "      <td>4</td>\n",
       "      <td>15</td>\n",
       "      <td>28.0</td>\n",
       "      <td>False</td>\n",
       "      <td>196</td>\n",
       "      <td>1</td>\n",
       "      <td>1</td>\n",
       "      <td>Soda</td>\n",
       "      <td>77</td>\n",
       "      <td>7</td>\n",
       "      <td>9.0</td>\n",
       "      <td>both</td>\n",
       "      <td>Mid-range product</td>\n",
       "      <td>Least busy</td>\n",
       "      <td>Slowest days</td>\n",
       "      <td>Most orders</td>\n",
       "      <td>10</td>\n",
       "      <td>New customer</td>\n",
       "      <td>6.367796</td>\n",
       "      <td>Low spender</td>\n",
       "      <td>20.5</td>\n",
       "      <td>Non-frequent customer</td>\n",
       "      <td>Linda</td>\n",
       "      <td>Nguyen</td>\n",
       "      <td>Female</td>\n",
       "      <td>Alabama</td>\n",
       "      <td>31</td>\n",
       "      <td>2/17/2019</td>\n",
       "      <td>3</td>\n",
       "      <td>married</td>\n",
       "      <td>40423</td>\n",
       "      <td>both</td>\n",
       "    </tr>\n",
       "  </tbody>\n",
       "</table>\n",
       "</div>"
      ],
      "text/plain": [
       "   order_id user_id  order_number  order_day_of_the_week  order_hour_of_day  \\\n",
       "0   2539329       1             1                      2                  8   \n",
       "1   2398795       1             2                      3                  7   \n",
       "2    473747       1             3                      3                 12   \n",
       "3   2254736       1             4                      4                  7   \n",
       "4    431534       1             5                      4                 15   \n",
       "\n",
       "   days_since_last_order  first_order  product_id  add_to_cart_order  \\\n",
       "0                    NaN         True         196                  1   \n",
       "1                   15.0        False         196                  1   \n",
       "2                   21.0        False         196                  1   \n",
       "3                   29.0        False         196                  1   \n",
       "4                   28.0        False         196                  1   \n",
       "\n",
       "   reordered product_name  aisle_id  department_id  prices match  \\\n",
       "0          0         Soda        77              7     9.0  both   \n",
       "1          1         Soda        77              7     9.0  both   \n",
       "2          1         Soda        77              7     9.0  both   \n",
       "3          1         Soda        77              7     9.0  both   \n",
       "4          1         Soda        77              7     9.0  both   \n",
       "\n",
       "     price_range_loc     busiest_day    busiest days  \\\n",
       "0  Mid-range product  Regularly busy  Regularly busy   \n",
       "1  Mid-range product  Regularly busy    Slowest days   \n",
       "2  Mid-range product  Regularly busy    Slowest days   \n",
       "3  Mid-range product      Least busy    Slowest days   \n",
       "4  Mid-range product      Least busy    Slowest days   \n",
       "\n",
       "  busiest_period_of_the_day  max_order  loyalty_flag  avg_order_price  \\\n",
       "0            Average orders         10  New customer         6.367796   \n",
       "1            Average orders         10  New customer         6.367796   \n",
       "2               Most orders         10  New customer         6.367796   \n",
       "3            Average orders         10  New customer         6.367796   \n",
       "4               Most orders         10  New customer         6.367796   \n",
       "\n",
       "  spending_flag  median_of_regularity   order_frequency_flag first_name  \\\n",
       "0   Low spender                  20.5  Non-frequent customer      Linda   \n",
       "1   Low spender                  20.5  Non-frequent customer      Linda   \n",
       "2   Low spender                  20.5  Non-frequent customer      Linda   \n",
       "3   Low spender                  20.5  Non-frequent customer      Linda   \n",
       "4   Low spender                  20.5  Non-frequent customer      Linda   \n",
       "\n",
       "  surname  gender    state age date_joined  n_dependants marital_status  \\\n",
       "0  Nguyen  Female  Alabama  31   2/17/2019             3        married   \n",
       "1  Nguyen  Female  Alabama  31   2/17/2019             3        married   \n",
       "2  Nguyen  Female  Alabama  31   2/17/2019             3        married   \n",
       "3  Nguyen  Female  Alabama  31   2/17/2019             3        married   \n",
       "4  Nguyen  Female  Alabama  31   2/17/2019             3        married   \n",
       "\n",
       "   income _merge  \n",
       "0   40423   both  \n",
       "1   40423   both  \n",
       "2   40423   both  \n",
       "3   40423   both  \n",
       "4   40423   both  "
      ]
     },
     "execution_count": 53,
     "metadata": {},
     "output_type": "execute_result"
    }
   ],
   "source": [
    "# Check result\n",
    "ords_prods_cus.head()"
   ]
  },
  {
   "cell_type": "code",
   "execution_count": 54,
   "id": "11b0ce22",
   "metadata": {},
   "outputs": [],
   "source": [
    "# Drop match column from previous merge\n",
    "ords_prods_cus = ords_prods_cus.drop('match', axis=1)"
   ]
  },
  {
   "cell_type": "code",
   "execution_count": 55,
   "id": "68677906",
   "metadata": {},
   "outputs": [
    {
     "data": {
      "text/plain": [
       "both          32404859\n",
       "left_only            0\n",
       "right_only           0\n",
       "Name: _merge, dtype: int64"
      ]
     },
     "execution_count": 55,
     "metadata": {},
     "output_type": "execute_result"
    }
   ],
   "source": [
    "# Check inner join value counts\n",
    "ords_prods_cus['_merge'].value_counts()"
   ]
  },
  {
   "cell_type": "markdown",
   "id": "9f1a916c",
   "metadata": {},
   "source": [
    "**Observation:**<br/>\n",
    "Two dataframes are successfully merged."
   ]
  },
  {
   "cell_type": "markdown",
   "id": "bb73e298",
   "metadata": {},
   "source": [
    "### 7. Export dataframe"
   ]
  },
  {
   "cell_type": "code",
   "execution_count": 56,
   "id": "6f705c6e",
   "metadata": {},
   "outputs": [],
   "source": [
    "# Export dataframe\n",
    "ords_prods_cus.to_pickle(os.path.join(path, '02 Data','Prepared Data', 'orders_products_customers_merged.pkl'))"
   ]
  },
  {
   "cell_type": "code",
   "execution_count": null,
   "id": "c6460fa7",
   "metadata": {},
   "outputs": [],
   "source": []
  }
 ],
 "metadata": {
  "kernelspec": {
   "display_name": "Python 3 (ipykernel)",
   "language": "python",
   "name": "python3"
  },
  "language_info": {
   "codemirror_mode": {
    "name": "ipython",
    "version": 3
   },
   "file_extension": ".py",
   "mimetype": "text/x-python",
   "name": "python",
   "nbconvert_exporter": "python",
   "pygments_lexer": "ipython3",
   "version": "3.9.13"
  }
 },
 "nbformat": 4,
 "nbformat_minor": 5
}
