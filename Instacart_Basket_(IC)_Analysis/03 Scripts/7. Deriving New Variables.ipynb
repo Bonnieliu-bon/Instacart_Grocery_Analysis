{
 "cells": [
  {
   "cell_type": "markdown",
   "id": "52b524a9",
   "metadata": {},
   "source": [
    "# 7. Deriving New Variables"
   ]
  },
  {
   "cell_type": "markdown",
   "id": "130a67e7",
   "metadata": {},
   "source": [
    "### Import libraries"
   ]
  },
  {
   "cell_type": "code",
   "execution_count": 2,
   "id": "c5f544ce",
   "metadata": {},
   "outputs": [],
   "source": [
    "# Import libraries\n",
    "import pandas as pd\n",
    "import numpy as np\n",
    "import os"
   ]
  },
  {
   "cell_type": "code",
   "execution_count": 3,
   "id": "64cb2e67",
   "metadata": {},
   "outputs": [],
   "source": [
    "# Create path\n",
    "path = r'/Users/bonnieandbanana/Desktop/A New Career/CareerFoundry/Data Immersion/A4_Python/ Instacart Basket Analysis Project (IC)'"
   ]
  },
  {
   "cell_type": "markdown",
   "id": "18c1392f",
   "metadata": {},
   "source": [
    "### Import dataframe"
   ]
  },
  {
   "cell_type": "code",
   "execution_count": 4,
   "id": "dd1a8c77",
   "metadata": {},
   "outputs": [],
   "source": [
    "# Import dataframe 'ords_prods_merge'\n",
    "ords_prods_merge = pd.read_pickle(os.path.join(path, '02 data' , 'prepared data' , 'ords_prods_merge.pkl'))"
   ]
  },
  {
   "cell_type": "markdown",
   "id": "d746dc7e",
   "metadata": {},
   "source": [
    "### Create a subset to operate on (avoid memory issue)"
   ]
  },
  {
   "cell_type": "code",
   "execution_count": 5,
   "id": "416fe365",
   "metadata": {},
   "outputs": [],
   "source": [
    "df= ords_prods_merge[:1000000]"
   ]
  },
  {
   "cell_type": "code",
   "execution_count": 6,
   "id": "0afa7159",
   "metadata": {},
   "outputs": [
    {
     "data": {
      "text/plain": [
       "(1000000, 16)"
      ]
     },
     "execution_count": 6,
     "metadata": {},
     "output_type": "execute_result"
    }
   ],
   "source": [
    "df.shape"
   ]
  },
  {
   "cell_type": "markdown",
   "id": "a52d3931",
   "metadata": {},
   "source": [
    "### Use If-statements with user-defined function"
   ]
  },
  {
   "cell_type": "code",
   "execution_count": 7,
   "id": "36b5a2ab",
   "metadata": {},
   "outputs": [],
   "source": [
    "# Define function\n",
    "def price_label(row):\n",
    "    \n",
    "    if row ['prices'] <= 5:\n",
    "        return 'Low-range product'\n",
    "    elif (row ['prices'] > 5) and (row ['prices'] <= 15) :\n",
    "        return 'Med-range product'\n",
    "    elif row [ 'prices'] > 15:\n",
    "        return 'High range'\n",
    "    else : return 'Not enough data'"
   ]
  },
  {
   "cell_type": "code",
   "execution_count": 8,
   "id": "20d33f75",
   "metadata": {},
   "outputs": [
    {
     "name": "stderr",
     "output_type": "stream",
     "text": [
      "/var/folders/0q/47hrk5n93wl2p7w37qq8g2q40000gn/T/ipykernel_3308/2473485647.py:3: SettingWithCopyWarning: \n",
      "A value is trying to be set on a copy of a slice from a DataFrame.\n",
      "Try using .loc[row_indexer,col_indexer] = value instead\n",
      "\n",
      "See the caveats in the documentation: https://pandas.pydata.org/pandas-docs/stable/user_guide/indexing.html#returning-a-view-versus-a-copy\n",
      "  df ['price_range'] = df.apply(price_label, axis = 1)\n"
     ]
    }
   ],
   "source": [
    "# Apply function in the newly created column\n",
    "df ['price_range'] = df.apply(price_label, axis = 1)"
   ]
  },
  {
   "cell_type": "code",
   "execution_count": 9,
   "id": "5d9b2410",
   "metadata": {},
   "outputs": [
    {
     "data": {
      "text/plain": [
       "Med-range product    756450\n",
       "Low-range product    243550\n",
       "Name: price_range, dtype: int64"
      ]
     },
     "execution_count": 9,
     "metadata": {},
     "output_type": "execute_result"
    }
   ],
   "source": [
    "df['price_range'].value_counts(dropna = False)"
   ]
  },
  {
   "cell_type": "code",
   "execution_count": 10,
   "id": "3d0e59a1",
   "metadata": {},
   "outputs": [
    {
     "data": {
      "text/plain": [
       "14.8"
      ]
     },
     "execution_count": 10,
     "metadata": {},
     "output_type": "execute_result"
    }
   ],
   "source": [
    "df['prices'].max()"
   ]
  },
  {
   "cell_type": "markdown",
   "id": "25d9b563",
   "metadata": {},
   "source": [
    "### Use If-Statements with the loc() Function"
   ]
  },
  {
   "cell_type": "markdown",
   "id": "db6d529b",
   "metadata": {},
   "source": [
    "**Apply on the subset**"
   ]
  },
  {
   "cell_type": "code",
   "execution_count": 11,
   "id": "bdf7ffb2",
   "metadata": {},
   "outputs": [
    {
     "name": "stderr",
     "output_type": "stream",
     "text": [
      "/var/folders/0q/47hrk5n93wl2p7w37qq8g2q40000gn/T/ipykernel_3308/2905662384.py:3: SettingWithCopyWarning: \n",
      "A value is trying to be set on a copy of a slice from a DataFrame.\n",
      "Try using .loc[row_indexer,col_indexer] = value instead\n",
      "\n",
      "See the caveats in the documentation: https://pandas.pydata.org/pandas-docs/stable/user_guide/indexing.html#returning-a-view-versus-a-copy\n",
      "  df.loc [df ['prices'] > 15, 'price_range_loc'] = 'High-range product'\n"
     ]
    }
   ],
   "source": [
    "# Prices larger than 15\n",
    "df.loc [df ['prices'] > 15, 'price_range_loc'] = 'High-range product'"
   ]
  },
  {
   "cell_type": "code",
   "execution_count": 12,
   "id": "3e4f1b1d",
   "metadata": {},
   "outputs": [],
   "source": [
    "# Prices less than or equal to 15 and larger than 5 \n",
    "df.loc [ (df ['prices'] <= 15) & (df ['prices'] > 5) , 'price_range_loc'] = 'Mid-range product'"
   ]
  },
  {
   "cell_type": "code",
   "execution_count": 13,
   "id": "dca183f3",
   "metadata": {},
   "outputs": [],
   "source": [
    "# Prices less than or equal to 5\n",
    "df.loc [ df['prices'] <= 5, 'price_range_loc'] = 'Low-range product'"
   ]
  },
  {
   "cell_type": "code",
   "execution_count": 14,
   "id": "ab8ed652",
   "metadata": {},
   "outputs": [
    {
     "data": {
      "text/plain": [
       "Mid-range product    756450\n",
       "Low-range product    243550\n",
       "Name: price_range_loc, dtype: int64"
      ]
     },
     "execution_count": 14,
     "metadata": {},
     "output_type": "execute_result"
    }
   ],
   "source": [
    "# Check output\n",
    "df ['price_range_loc'].value_counts (dropna = False)"
   ]
  },
  {
   "cell_type": "markdown",
   "id": "45be948a",
   "metadata": {},
   "source": [
    "**Apply on the entire dataframe**"
   ]
  },
  {
   "cell_type": "code",
   "execution_count": 15,
   "id": "7b75b2dc",
   "metadata": {},
   "outputs": [],
   "source": [
    "# Prices larger than 15\n",
    "ords_prods_merge.loc [ords_prods_merge ['prices'] > 15 , 'price_range_loc'] = 'High-range product'"
   ]
  },
  {
   "cell_type": "code",
   "execution_count": 16,
   "id": "e33dfe48",
   "metadata": {},
   "outputs": [],
   "source": [
    "# Prices less than or equal to 15 and larger than 5 \n",
    "ords_prods_merge.loc [ (ords_prods_merge ['prices'] <= 15) & (ords_prods_merge ['prices'] > 5), 'price_range_loc'] = 'Mid-range product'"
   ]
  },
  {
   "cell_type": "code",
   "execution_count": 17,
   "id": "9a9b3225",
   "metadata": {},
   "outputs": [],
   "source": [
    "# Prices less than or equal to 5\n",
    "ords_prods_merge.loc [ ords_prods_merge ['prices'] <= 5, 'price_range_loc'] = 'Low-range product'"
   ]
  },
  {
   "cell_type": "code",
   "execution_count": 18,
   "id": "db66f723",
   "metadata": {},
   "outputs": [
    {
     "data": {
      "text/plain": [
       "Mid-range product     21860860\n",
       "Low-range product     10126321\n",
       "High-range product      417678\n",
       "Name: price_range_loc, dtype: int64"
      ]
     },
     "execution_count": 18,
     "metadata": {},
     "output_type": "execute_result"
    }
   ],
   "source": [
    "# Check output\n",
    "ords_prods_merge ['price_range_loc'].value_counts (dropna = False)"
   ]
  },
  {
   "cell_type": "markdown",
   "id": "99d8d62e",
   "metadata": {},
   "source": [
    "### If-Statements with For-Loops"
   ]
  },
  {
   "cell_type": "code",
   "execution_count": 19,
   "id": "e6c6c009",
   "metadata": {},
   "outputs": [
    {
     "data": {
      "text/plain": [
       "0    6204182\n",
       "1    5660230\n",
       "6    4496490\n",
       "2    4213830\n",
       "5    4205791\n",
       "3    3840534\n",
       "4    3783802\n",
       "Name: order_day_of_the_week, dtype: int64"
      ]
     },
     "execution_count": 19,
     "metadata": {},
     "output_type": "execute_result"
    }
   ],
   "source": [
    "# Get the frequence to know which day most orders take place\n",
    "ords_prods_merge ['order_day_of_the_week'].value_counts(dropna = False)"
   ]
  },
  {
   "cell_type": "markdown",
   "id": "6a0485a8",
   "metadata": {},
   "source": [
    "**Observation** <br/>\n",
    "Number of orders has been arranged in descending order, the day '0' with the most orders represent 'Saturday', while day '4' represents Wednesday"
   ]
  },
  {
   "cell_type": "code",
   "execution_count": 20,
   "id": "6e51b07c",
   "metadata": {},
   "outputs": [],
   "source": [
    "# Apply for-loop integrated with if-statements\n",
    "result = []\n",
    "\n",
    "for value in ords_prods_merge ['order_day_of_the_week'] :\n",
    "    if value == 0:\n",
    "        result.append('Busiest day')\n",
    "    elif value == 4:\n",
    "        result.append('Least busy')\n",
    "    else :\n",
    "        result.append('Regularly busy')"
   ]
  },
  {
   "cell_type": "code",
   "execution_count": 21,
   "id": "40c56b68",
   "metadata": {},
   "outputs": [
    {
     "data": {
      "text/plain": [
       "['Regularly busy',\n",
       " 'Regularly busy',\n",
       " 'Regularly busy',\n",
       " 'Least busy',\n",
       " 'Least busy']"
      ]
     },
     "execution_count": 21,
     "metadata": {},
     "output_type": "execute_result"
    }
   ],
   "source": [
    "result [:5]"
   ]
  },
  {
   "cell_type": "markdown",
   "id": "0a4b3cdb",
   "metadata": {},
   "source": [
    "**Observation** <br/>\n",
    "The list 'result' does not help much, it should be combined with the ords_prods_merge dataframe"
   ]
  },
  {
   "cell_type": "code",
   "execution_count": 22,
   "id": "5695ba0d",
   "metadata": {},
   "outputs": [],
   "source": [
    "# Combine result list with the dataframe\n",
    "ords_prods_merge ['busiest_day'] = result"
   ]
  },
  {
   "cell_type": "code",
   "execution_count": 23,
   "id": "379aa124",
   "metadata": {},
   "outputs": [
    {
     "data": {
      "text/plain": [
       "Regularly busy    22416875\n",
       "Busiest day        6204182\n",
       "Least busy         3783802\n",
       "Name: busiest_day, dtype: int64"
      ]
     },
     "execution_count": 23,
     "metadata": {},
     "output_type": "execute_result"
    }
   ],
   "source": [
    "# Count the frequency of the new created column and cross-check it with frequency check done before the loop\n",
    "ords_prods_merge ['busiest_day'].value_counts(dropna = False)"
   ]
  },
  {
   "cell_type": "markdown",
   "id": "96c25022",
   "metadata": {},
   "source": [
    "# Tasks"
   ]
  },
  {
   "cell_type": "markdown",
   "id": "d8e672cb",
   "metadata": {},
   "source": [
    "### 1. Ensure the column 'price_label' and 'busiest day'(singular) are created"
   ]
  },
  {
   "cell_type": "code",
   "execution_count": 24,
   "id": "02672b48",
   "metadata": {},
   "outputs": [
    {
     "data": {
      "text/html": [
       "<div>\n",
       "<style scoped>\n",
       "    .dataframe tbody tr th:only-of-type {\n",
       "        vertical-align: middle;\n",
       "    }\n",
       "\n",
       "    .dataframe tbody tr th {\n",
       "        vertical-align: top;\n",
       "    }\n",
       "\n",
       "    .dataframe thead th {\n",
       "        text-align: right;\n",
       "    }\n",
       "</style>\n",
       "<table border=\"1\" class=\"dataframe\">\n",
       "  <thead>\n",
       "    <tr style=\"text-align: right;\">\n",
       "      <th></th>\n",
       "      <th>order_id</th>\n",
       "      <th>user_id</th>\n",
       "      <th>order_number</th>\n",
       "      <th>order_day_of_the_week</th>\n",
       "      <th>order_hour_of_day</th>\n",
       "      <th>days_since_last_order</th>\n",
       "      <th>first_order</th>\n",
       "      <th>product_id</th>\n",
       "      <th>add_to_cart_order</th>\n",
       "      <th>reordered</th>\n",
       "      <th>_merge</th>\n",
       "      <th>product_name</th>\n",
       "      <th>aisle_id</th>\n",
       "      <th>department_id</th>\n",
       "      <th>prices</th>\n",
       "      <th>match</th>\n",
       "      <th>price_range_loc</th>\n",
       "      <th>busiest_day</th>\n",
       "    </tr>\n",
       "  </thead>\n",
       "  <tbody>\n",
       "    <tr>\n",
       "      <th>0</th>\n",
       "      <td>2539329</td>\n",
       "      <td>1</td>\n",
       "      <td>1</td>\n",
       "      <td>2</td>\n",
       "      <td>8</td>\n",
       "      <td>NaN</td>\n",
       "      <td>True</td>\n",
       "      <td>196</td>\n",
       "      <td>1</td>\n",
       "      <td>0</td>\n",
       "      <td>both</td>\n",
       "      <td>Soda</td>\n",
       "      <td>77</td>\n",
       "      <td>7</td>\n",
       "      <td>9.0</td>\n",
       "      <td>both</td>\n",
       "      <td>Mid-range product</td>\n",
       "      <td>Regularly busy</td>\n",
       "    </tr>\n",
       "    <tr>\n",
       "      <th>1</th>\n",
       "      <td>2398795</td>\n",
       "      <td>1</td>\n",
       "      <td>2</td>\n",
       "      <td>3</td>\n",
       "      <td>7</td>\n",
       "      <td>15.0</td>\n",
       "      <td>False</td>\n",
       "      <td>196</td>\n",
       "      <td>1</td>\n",
       "      <td>1</td>\n",
       "      <td>both</td>\n",
       "      <td>Soda</td>\n",
       "      <td>77</td>\n",
       "      <td>7</td>\n",
       "      <td>9.0</td>\n",
       "      <td>both</td>\n",
       "      <td>Mid-range product</td>\n",
       "      <td>Regularly busy</td>\n",
       "    </tr>\n",
       "    <tr>\n",
       "      <th>2</th>\n",
       "      <td>473747</td>\n",
       "      <td>1</td>\n",
       "      <td>3</td>\n",
       "      <td>3</td>\n",
       "      <td>12</td>\n",
       "      <td>21.0</td>\n",
       "      <td>False</td>\n",
       "      <td>196</td>\n",
       "      <td>1</td>\n",
       "      <td>1</td>\n",
       "      <td>both</td>\n",
       "      <td>Soda</td>\n",
       "      <td>77</td>\n",
       "      <td>7</td>\n",
       "      <td>9.0</td>\n",
       "      <td>both</td>\n",
       "      <td>Mid-range product</td>\n",
       "      <td>Regularly busy</td>\n",
       "    </tr>\n",
       "    <tr>\n",
       "      <th>3</th>\n",
       "      <td>2254736</td>\n",
       "      <td>1</td>\n",
       "      <td>4</td>\n",
       "      <td>4</td>\n",
       "      <td>7</td>\n",
       "      <td>29.0</td>\n",
       "      <td>False</td>\n",
       "      <td>196</td>\n",
       "      <td>1</td>\n",
       "      <td>1</td>\n",
       "      <td>both</td>\n",
       "      <td>Soda</td>\n",
       "      <td>77</td>\n",
       "      <td>7</td>\n",
       "      <td>9.0</td>\n",
       "      <td>both</td>\n",
       "      <td>Mid-range product</td>\n",
       "      <td>Least busy</td>\n",
       "    </tr>\n",
       "    <tr>\n",
       "      <th>4</th>\n",
       "      <td>431534</td>\n",
       "      <td>1</td>\n",
       "      <td>5</td>\n",
       "      <td>4</td>\n",
       "      <td>15</td>\n",
       "      <td>28.0</td>\n",
       "      <td>False</td>\n",
       "      <td>196</td>\n",
       "      <td>1</td>\n",
       "      <td>1</td>\n",
       "      <td>both</td>\n",
       "      <td>Soda</td>\n",
       "      <td>77</td>\n",
       "      <td>7</td>\n",
       "      <td>9.0</td>\n",
       "      <td>both</td>\n",
       "      <td>Mid-range product</td>\n",
       "      <td>Least busy</td>\n",
       "    </tr>\n",
       "  </tbody>\n",
       "</table>\n",
       "</div>"
      ],
      "text/plain": [
       "   order_id  user_id  order_number  order_day_of_the_week  order_hour_of_day  \\\n",
       "0   2539329        1             1                      2                  8   \n",
       "1   2398795        1             2                      3                  7   \n",
       "2    473747        1             3                      3                 12   \n",
       "3   2254736        1             4                      4                  7   \n",
       "4    431534        1             5                      4                 15   \n",
       "\n",
       "   days_since_last_order  first_order  product_id  add_to_cart_order  \\\n",
       "0                    NaN         True         196                  1   \n",
       "1                   15.0        False         196                  1   \n",
       "2                   21.0        False         196                  1   \n",
       "3                   29.0        False         196                  1   \n",
       "4                   28.0        False         196                  1   \n",
       "\n",
       "   reordered _merge product_name  aisle_id  department_id  prices match  \\\n",
       "0          0   both         Soda        77              7     9.0  both   \n",
       "1          1   both         Soda        77              7     9.0  both   \n",
       "2          1   both         Soda        77              7     9.0  both   \n",
       "3          1   both         Soda        77              7     9.0  both   \n",
       "4          1   both         Soda        77              7     9.0  both   \n",
       "\n",
       "     price_range_loc     busiest_day  \n",
       "0  Mid-range product  Regularly busy  \n",
       "1  Mid-range product  Regularly busy  \n",
       "2  Mid-range product  Regularly busy  \n",
       "3  Mid-range product      Least busy  \n",
       "4  Mid-range product      Least busy  "
      ]
     },
     "execution_count": 24,
     "metadata": {},
     "output_type": "execute_result"
    }
   ],
   "source": [
    "# Check output\n",
    "ords_prods_merge.head()"
   ]
  },
  {
   "cell_type": "markdown",
   "id": "785c39f8",
   "metadata": {},
   "source": [
    "### 2. Create a new column with indicators of 'busiest days' and  'slowest days'"
   ]
  },
  {
   "cell_type": "code",
   "execution_count": 25,
   "id": "3920b2d9",
   "metadata": {},
   "outputs": [
    {
     "data": {
      "text/plain": [
       "0    6204182\n",
       "1    5660230\n",
       "6    4496490\n",
       "2    4213830\n",
       "5    4205791\n",
       "3    3840534\n",
       "4    3783802\n",
       "Name: order_day_of_the_week, dtype: int64"
      ]
     },
     "execution_count": 25,
     "metadata": {},
     "output_type": "execute_result"
    }
   ],
   "source": [
    "# Check the frequence to obtain the busiest days and slowest days\n",
    "ords_prods_merge ['order_day_of_the_week']. value_counts(dropna = False)"
   ]
  },
  {
   "cell_type": "markdown",
   "id": "d4c3f401",
   "metadata": {},
   "source": [
    "**Observation**<br/>\n",
    "busiest days are '0' and '1' represent Saturday and Sunday; slowest days '3' and '4' represent Tuesday and Wednesday"
   ]
  },
  {
   "cell_type": "code",
   "execution_count": 26,
   "id": "8bf2d88f",
   "metadata": {},
   "outputs": [],
   "source": [
    "# Use for-loop to create an empty list that categorizes the days.\n",
    "result_1 = []\n",
    "\n",
    "for x in ords_prods_merge ['order_day_of_the_week'] :\n",
    "    if x in {0,1} :\n",
    "        result_1.append('Busiest days')\n",
    "    elif x in {3,4} :\n",
    "        result_1.append('Slowest days')\n",
    "    else :\n",
    "        result_1.append('Regularly busy')"
   ]
  },
  {
   "cell_type": "code",
   "execution_count": 27,
   "id": "9b09ab61",
   "metadata": {},
   "outputs": [
    {
     "data": {
      "text/plain": [
       "['Regularly busy',\n",
       " 'Slowest days',\n",
       " 'Slowest days',\n",
       " 'Slowest days',\n",
       " 'Slowest days']"
      ]
     },
     "execution_count": 27,
     "metadata": {},
     "output_type": "execute_result"
    }
   ],
   "source": [
    "# Check the output list\n",
    "result_1[:5]"
   ]
  },
  {
   "cell_type": "code",
   "execution_count": 28,
   "id": "60513615",
   "metadata": {},
   "outputs": [],
   "source": [
    "# Combine the list with the dataframe\n",
    "ords_prods_merge ['busiest days'] = result_1"
   ]
  },
  {
   "cell_type": "code",
   "execution_count": 29,
   "id": "0bbcc082",
   "metadata": {},
   "outputs": [
    {
     "data": {
      "text/plain": [
       "Regularly busy    12916111\n",
       "Busiest days      11864412\n",
       "Slowest days       7624336\n",
       "Name: busiest days, dtype: int64"
      ]
     },
     "execution_count": 29,
     "metadata": {},
     "output_type": "execute_result"
    }
   ],
   "source": [
    "ords_prods_merge['busiest days']. value_counts(dropna = False)"
   ]
  },
  {
   "cell_type": "markdown",
   "id": "1079e28b",
   "metadata": {},
   "source": [
    "**Observation**<br/>\n",
    "1. Frequency check cannot be performed prior to the combination of dataframe and the list, the list does not have the attribute to apply **.value_counts** function<br/>\n",
    "2. The frequency counts match with the original frequecy counts from the order_day_of_the_week column"
   ]
  },
  {
   "cell_type": "code",
   "execution_count": 30,
   "id": "8d96cab8",
   "metadata": {},
   "outputs": [
    {
     "data": {
      "text/html": [
       "<div>\n",
       "<style scoped>\n",
       "    .dataframe tbody tr th:only-of-type {\n",
       "        vertical-align: middle;\n",
       "    }\n",
       "\n",
       "    .dataframe tbody tr th {\n",
       "        vertical-align: top;\n",
       "    }\n",
       "\n",
       "    .dataframe thead th {\n",
       "        text-align: right;\n",
       "    }\n",
       "</style>\n",
       "<table border=\"1\" class=\"dataframe\">\n",
       "  <thead>\n",
       "    <tr style=\"text-align: right;\">\n",
       "      <th></th>\n",
       "      <th>order_id</th>\n",
       "      <th>user_id</th>\n",
       "      <th>order_number</th>\n",
       "      <th>order_day_of_the_week</th>\n",
       "      <th>order_hour_of_day</th>\n",
       "      <th>days_since_last_order</th>\n",
       "      <th>first_order</th>\n",
       "      <th>product_id</th>\n",
       "      <th>add_to_cart_order</th>\n",
       "      <th>reordered</th>\n",
       "      <th>_merge</th>\n",
       "      <th>product_name</th>\n",
       "      <th>aisle_id</th>\n",
       "      <th>department_id</th>\n",
       "      <th>prices</th>\n",
       "      <th>match</th>\n",
       "      <th>price_range_loc</th>\n",
       "      <th>busiest_day</th>\n",
       "      <th>busiest days</th>\n",
       "    </tr>\n",
       "  </thead>\n",
       "  <tbody>\n",
       "    <tr>\n",
       "      <th>0</th>\n",
       "      <td>2539329</td>\n",
       "      <td>1</td>\n",
       "      <td>1</td>\n",
       "      <td>2</td>\n",
       "      <td>8</td>\n",
       "      <td>NaN</td>\n",
       "      <td>True</td>\n",
       "      <td>196</td>\n",
       "      <td>1</td>\n",
       "      <td>0</td>\n",
       "      <td>both</td>\n",
       "      <td>Soda</td>\n",
       "      <td>77</td>\n",
       "      <td>7</td>\n",
       "      <td>9.0</td>\n",
       "      <td>both</td>\n",
       "      <td>Mid-range product</td>\n",
       "      <td>Regularly busy</td>\n",
       "      <td>Regularly busy</td>\n",
       "    </tr>\n",
       "    <tr>\n",
       "      <th>1</th>\n",
       "      <td>2398795</td>\n",
       "      <td>1</td>\n",
       "      <td>2</td>\n",
       "      <td>3</td>\n",
       "      <td>7</td>\n",
       "      <td>15.0</td>\n",
       "      <td>False</td>\n",
       "      <td>196</td>\n",
       "      <td>1</td>\n",
       "      <td>1</td>\n",
       "      <td>both</td>\n",
       "      <td>Soda</td>\n",
       "      <td>77</td>\n",
       "      <td>7</td>\n",
       "      <td>9.0</td>\n",
       "      <td>both</td>\n",
       "      <td>Mid-range product</td>\n",
       "      <td>Regularly busy</td>\n",
       "      <td>Slowest days</td>\n",
       "    </tr>\n",
       "    <tr>\n",
       "      <th>2</th>\n",
       "      <td>473747</td>\n",
       "      <td>1</td>\n",
       "      <td>3</td>\n",
       "      <td>3</td>\n",
       "      <td>12</td>\n",
       "      <td>21.0</td>\n",
       "      <td>False</td>\n",
       "      <td>196</td>\n",
       "      <td>1</td>\n",
       "      <td>1</td>\n",
       "      <td>both</td>\n",
       "      <td>Soda</td>\n",
       "      <td>77</td>\n",
       "      <td>7</td>\n",
       "      <td>9.0</td>\n",
       "      <td>both</td>\n",
       "      <td>Mid-range product</td>\n",
       "      <td>Regularly busy</td>\n",
       "      <td>Slowest days</td>\n",
       "    </tr>\n",
       "    <tr>\n",
       "      <th>3</th>\n",
       "      <td>2254736</td>\n",
       "      <td>1</td>\n",
       "      <td>4</td>\n",
       "      <td>4</td>\n",
       "      <td>7</td>\n",
       "      <td>29.0</td>\n",
       "      <td>False</td>\n",
       "      <td>196</td>\n",
       "      <td>1</td>\n",
       "      <td>1</td>\n",
       "      <td>both</td>\n",
       "      <td>Soda</td>\n",
       "      <td>77</td>\n",
       "      <td>7</td>\n",
       "      <td>9.0</td>\n",
       "      <td>both</td>\n",
       "      <td>Mid-range product</td>\n",
       "      <td>Least busy</td>\n",
       "      <td>Slowest days</td>\n",
       "    </tr>\n",
       "    <tr>\n",
       "      <th>4</th>\n",
       "      <td>431534</td>\n",
       "      <td>1</td>\n",
       "      <td>5</td>\n",
       "      <td>4</td>\n",
       "      <td>15</td>\n",
       "      <td>28.0</td>\n",
       "      <td>False</td>\n",
       "      <td>196</td>\n",
       "      <td>1</td>\n",
       "      <td>1</td>\n",
       "      <td>both</td>\n",
       "      <td>Soda</td>\n",
       "      <td>77</td>\n",
       "      <td>7</td>\n",
       "      <td>9.0</td>\n",
       "      <td>both</td>\n",
       "      <td>Mid-range product</td>\n",
       "      <td>Least busy</td>\n",
       "      <td>Slowest days</td>\n",
       "    </tr>\n",
       "  </tbody>\n",
       "</table>\n",
       "</div>"
      ],
      "text/plain": [
       "   order_id  user_id  order_number  order_day_of_the_week  order_hour_of_day  \\\n",
       "0   2539329        1             1                      2                  8   \n",
       "1   2398795        1             2                      3                  7   \n",
       "2    473747        1             3                      3                 12   \n",
       "3   2254736        1             4                      4                  7   \n",
       "4    431534        1             5                      4                 15   \n",
       "\n",
       "   days_since_last_order  first_order  product_id  add_to_cart_order  \\\n",
       "0                    NaN         True         196                  1   \n",
       "1                   15.0        False         196                  1   \n",
       "2                   21.0        False         196                  1   \n",
       "3                   29.0        False         196                  1   \n",
       "4                   28.0        False         196                  1   \n",
       "\n",
       "   reordered _merge product_name  aisle_id  department_id  prices match  \\\n",
       "0          0   both         Soda        77              7     9.0  both   \n",
       "1          1   both         Soda        77              7     9.0  both   \n",
       "2          1   both         Soda        77              7     9.0  both   \n",
       "3          1   both         Soda        77              7     9.0  both   \n",
       "4          1   both         Soda        77              7     9.0  both   \n",
       "\n",
       "     price_range_loc     busiest_day    busiest days  \n",
       "0  Mid-range product  Regularly busy  Regularly busy  \n",
       "1  Mid-range product  Regularly busy    Slowest days  \n",
       "2  Mid-range product  Regularly busy    Slowest days  \n",
       "3  Mid-range product      Least busy    Slowest days  \n",
       "4  Mid-range product      Least busy    Slowest days  "
      ]
     },
     "execution_count": 30,
     "metadata": {},
     "output_type": "execute_result"
    }
   ],
   "source": [
    "# Check the desired column 'busiest days' (plural) has been created\n",
    "ords_prods_merge.head()"
   ]
  },
  {
   "cell_type": "markdown",
   "id": "94f3b227",
   "metadata": {},
   "source": [
    "**Observation**<br/>\n",
    "The new column 'busiest days' is created with indicators of 'Busiest days', 'Slowest days', and 'Regular busy'"
   ]
  },
  {
   "cell_type": "markdown",
   "id": "95c13be1",
   "metadata": {},
   "source": [
    "### 3. Identify the busiest hours of the day by creating a new column 'busiest_period_of_the_day'"
   ]
  },
  {
   "cell_type": "code",
   "execution_count": 31,
   "id": "e31bcb68",
   "metadata": {},
   "outputs": [
    {
     "data": {
      "text/plain": [
       "10    2761760\n",
       "11    2736140\n",
       "14    2689136\n",
       "15    2662144\n",
       "13    2660954\n",
       "12    2618532\n",
       "16    2535202\n",
       "9     2454203\n",
       "17    2087654\n",
       "8     1718118\n",
       "18    1636502\n",
       "19    1258305\n",
       "20     976156\n",
       "7      891054\n",
       "21     795637\n",
       "22     634225\n",
       "23     402316\n",
       "6      290493\n",
       "0      218769\n",
       "1      115700\n",
       "5       87961\n",
       "2       69375\n",
       "4       53242\n",
       "3       51281\n",
       "Name: order_hour_of_day, dtype: int64"
      ]
     },
     "execution_count": 31,
     "metadata": {},
     "output_type": "execute_result"
    }
   ],
   "source": [
    "# Get the frequency counts of the individual hours of the day\n",
    "ords_prods_merge['order_hour_of_day'].value_counts(dropna = False)"
   ]
  },
  {
   "cell_type": "code",
   "execution_count": 32,
   "id": "adce0214",
   "metadata": {},
   "outputs": [],
   "source": [
    "# Use for-loop by creating a list\n",
    "outcome = []\n",
    "\n",
    "for x in ords_prods_merge['order_hour_of_day']:\n",
    "    if x in {9,16,12,13,14,15,11,10}:\n",
    "        outcome.append('Most orders')\n",
    "    elif x in {5,2,4,3}:\n",
    "        outcome.append('Fewest orders')\n",
    "    else :\n",
    "        outcome.append('Average orders')"
   ]
  },
  {
   "cell_type": "code",
   "execution_count": 33,
   "id": "5c66039f",
   "metadata": {},
   "outputs": [],
   "source": [
    "# Combine the list with dataframe by creating a new column\n",
    "ords_prods_merge ['busiest_period_of_the_day'] = outcome"
   ]
  },
  {
   "cell_type": "code",
   "execution_count": 34,
   "id": "14ab8a28",
   "metadata": {},
   "outputs": [
    {
     "data": {
      "text/plain": [
       "Most orders       21118071\n",
       "Average orders    11024929\n",
       "Fewest orders       261859\n",
       "Name: busiest_period_of_the_day, dtype: int64"
      ]
     },
     "execution_count": 34,
     "metadata": {},
     "output_type": "execute_result"
    }
   ],
   "source": [
    "# Cross-check the frequency counts of the new created column\n",
    "ords_prods_merge ['busiest_period_of_the_day'].value_counts(dropna=False)"
   ]
  },
  {
   "cell_type": "markdown",
   "id": "c2b27feb",
   "metadata": {},
   "source": [
    "**Observation**<br/>\n",
    "The frequency counts match with the original frequency counts"
   ]
  },
  {
   "cell_type": "code",
   "execution_count": 35,
   "id": "9da72bae",
   "metadata": {},
   "outputs": [
    {
     "data": {
      "text/html": [
       "<div>\n",
       "<style scoped>\n",
       "    .dataframe tbody tr th:only-of-type {\n",
       "        vertical-align: middle;\n",
       "    }\n",
       "\n",
       "    .dataframe tbody tr th {\n",
       "        vertical-align: top;\n",
       "    }\n",
       "\n",
       "    .dataframe thead th {\n",
       "        text-align: right;\n",
       "    }\n",
       "</style>\n",
       "<table border=\"1\" class=\"dataframe\">\n",
       "  <thead>\n",
       "    <tr style=\"text-align: right;\">\n",
       "      <th></th>\n",
       "      <th>order_id</th>\n",
       "      <th>user_id</th>\n",
       "      <th>order_number</th>\n",
       "      <th>order_day_of_the_week</th>\n",
       "      <th>order_hour_of_day</th>\n",
       "      <th>days_since_last_order</th>\n",
       "      <th>first_order</th>\n",
       "      <th>product_id</th>\n",
       "      <th>add_to_cart_order</th>\n",
       "      <th>reordered</th>\n",
       "      <th>_merge</th>\n",
       "      <th>product_name</th>\n",
       "      <th>aisle_id</th>\n",
       "      <th>department_id</th>\n",
       "      <th>prices</th>\n",
       "      <th>match</th>\n",
       "      <th>price_range_loc</th>\n",
       "      <th>busiest_day</th>\n",
       "      <th>busiest days</th>\n",
       "      <th>busiest_period_of_the_day</th>\n",
       "    </tr>\n",
       "  </thead>\n",
       "  <tbody>\n",
       "    <tr>\n",
       "      <th>0</th>\n",
       "      <td>2539329</td>\n",
       "      <td>1</td>\n",
       "      <td>1</td>\n",
       "      <td>2</td>\n",
       "      <td>8</td>\n",
       "      <td>NaN</td>\n",
       "      <td>True</td>\n",
       "      <td>196</td>\n",
       "      <td>1</td>\n",
       "      <td>0</td>\n",
       "      <td>both</td>\n",
       "      <td>Soda</td>\n",
       "      <td>77</td>\n",
       "      <td>7</td>\n",
       "      <td>9.0</td>\n",
       "      <td>both</td>\n",
       "      <td>Mid-range product</td>\n",
       "      <td>Regularly busy</td>\n",
       "      <td>Regularly busy</td>\n",
       "      <td>Average orders</td>\n",
       "    </tr>\n",
       "    <tr>\n",
       "      <th>1</th>\n",
       "      <td>2398795</td>\n",
       "      <td>1</td>\n",
       "      <td>2</td>\n",
       "      <td>3</td>\n",
       "      <td>7</td>\n",
       "      <td>15.0</td>\n",
       "      <td>False</td>\n",
       "      <td>196</td>\n",
       "      <td>1</td>\n",
       "      <td>1</td>\n",
       "      <td>both</td>\n",
       "      <td>Soda</td>\n",
       "      <td>77</td>\n",
       "      <td>7</td>\n",
       "      <td>9.0</td>\n",
       "      <td>both</td>\n",
       "      <td>Mid-range product</td>\n",
       "      <td>Regularly busy</td>\n",
       "      <td>Slowest days</td>\n",
       "      <td>Average orders</td>\n",
       "    </tr>\n",
       "    <tr>\n",
       "      <th>2</th>\n",
       "      <td>473747</td>\n",
       "      <td>1</td>\n",
       "      <td>3</td>\n",
       "      <td>3</td>\n",
       "      <td>12</td>\n",
       "      <td>21.0</td>\n",
       "      <td>False</td>\n",
       "      <td>196</td>\n",
       "      <td>1</td>\n",
       "      <td>1</td>\n",
       "      <td>both</td>\n",
       "      <td>Soda</td>\n",
       "      <td>77</td>\n",
       "      <td>7</td>\n",
       "      <td>9.0</td>\n",
       "      <td>both</td>\n",
       "      <td>Mid-range product</td>\n",
       "      <td>Regularly busy</td>\n",
       "      <td>Slowest days</td>\n",
       "      <td>Most orders</td>\n",
       "    </tr>\n",
       "    <tr>\n",
       "      <th>3</th>\n",
       "      <td>2254736</td>\n",
       "      <td>1</td>\n",
       "      <td>4</td>\n",
       "      <td>4</td>\n",
       "      <td>7</td>\n",
       "      <td>29.0</td>\n",
       "      <td>False</td>\n",
       "      <td>196</td>\n",
       "      <td>1</td>\n",
       "      <td>1</td>\n",
       "      <td>both</td>\n",
       "      <td>Soda</td>\n",
       "      <td>77</td>\n",
       "      <td>7</td>\n",
       "      <td>9.0</td>\n",
       "      <td>both</td>\n",
       "      <td>Mid-range product</td>\n",
       "      <td>Least busy</td>\n",
       "      <td>Slowest days</td>\n",
       "      <td>Average orders</td>\n",
       "    </tr>\n",
       "    <tr>\n",
       "      <th>4</th>\n",
       "      <td>431534</td>\n",
       "      <td>1</td>\n",
       "      <td>5</td>\n",
       "      <td>4</td>\n",
       "      <td>15</td>\n",
       "      <td>28.0</td>\n",
       "      <td>False</td>\n",
       "      <td>196</td>\n",
       "      <td>1</td>\n",
       "      <td>1</td>\n",
       "      <td>both</td>\n",
       "      <td>Soda</td>\n",
       "      <td>77</td>\n",
       "      <td>7</td>\n",
       "      <td>9.0</td>\n",
       "      <td>both</td>\n",
       "      <td>Mid-range product</td>\n",
       "      <td>Least busy</td>\n",
       "      <td>Slowest days</td>\n",
       "      <td>Most orders</td>\n",
       "    </tr>\n",
       "  </tbody>\n",
       "</table>\n",
       "</div>"
      ],
      "text/plain": [
       "   order_id  user_id  order_number  order_day_of_the_week  order_hour_of_day  \\\n",
       "0   2539329        1             1                      2                  8   \n",
       "1   2398795        1             2                      3                  7   \n",
       "2    473747        1             3                      3                 12   \n",
       "3   2254736        1             4                      4                  7   \n",
       "4    431534        1             5                      4                 15   \n",
       "\n",
       "   days_since_last_order  first_order  product_id  add_to_cart_order  \\\n",
       "0                    NaN         True         196                  1   \n",
       "1                   15.0        False         196                  1   \n",
       "2                   21.0        False         196                  1   \n",
       "3                   29.0        False         196                  1   \n",
       "4                   28.0        False         196                  1   \n",
       "\n",
       "   reordered _merge product_name  aisle_id  department_id  prices match  \\\n",
       "0          0   both         Soda        77              7     9.0  both   \n",
       "1          1   both         Soda        77              7     9.0  both   \n",
       "2          1   both         Soda        77              7     9.0  both   \n",
       "3          1   both         Soda        77              7     9.0  both   \n",
       "4          1   both         Soda        77              7     9.0  both   \n",
       "\n",
       "     price_range_loc     busiest_day    busiest days busiest_period_of_the_day  \n",
       "0  Mid-range product  Regularly busy  Regularly busy            Average orders  \n",
       "1  Mid-range product  Regularly busy    Slowest days            Average orders  \n",
       "2  Mid-range product  Regularly busy    Slowest days               Most orders  \n",
       "3  Mid-range product      Least busy    Slowest days            Average orders  \n",
       "4  Mid-range product      Least busy    Slowest days               Most orders  "
      ]
     },
     "execution_count": 35,
     "metadata": {},
     "output_type": "execute_result"
    }
   ],
   "source": [
    "# Check output\n",
    "ords_prods_merge.head()"
   ]
  },
  {
   "cell_type": "markdown",
   "id": "c9d9340b",
   "metadata": {},
   "source": [
    "## Export data as pickle"
   ]
  },
  {
   "cell_type": "code",
   "execution_count": 36,
   "id": "dabeead7",
   "metadata": {},
   "outputs": [],
   "source": [
    "# Export data\n",
    "ords_prods_merge.to_pickle(os.path.join(path, '02 data' , 'prepared data' , 'ords_prods_derived.pkl'))"
   ]
  },
  {
   "cell_type": "code",
   "execution_count": null,
   "id": "ea5d83fc",
   "metadata": {},
   "outputs": [],
   "source": []
  }
 ],
 "metadata": {
  "kernelspec": {
   "display_name": "Python 3 (ipykernel)",
   "language": "python",
   "name": "python3"
  },
  "language_info": {
   "codemirror_mode": {
    "name": "ipython",
    "version": 3
   },
   "file_extension": ".py",
   "mimetype": "text/x-python",
   "name": "python",
   "nbconvert_exporter": "python",
   "pygments_lexer": "ipython3",
   "version": "3.9.13"
  }
 },
 "nbformat": 4,
 "nbformat_minor": 5
}
