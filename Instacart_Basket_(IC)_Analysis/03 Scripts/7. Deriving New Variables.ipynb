{
 "cells": [
  {
   "cell_type": "markdown",
   "id": "52b524a9",
   "metadata": {},
   "source": [
    "# 7. Deriving New Variables\n",
    "## Table of contents\n",
    "***\n",
    "\n",
    "**`1. Import libraries`**<br/>\n",
    "\n",
    "**`2. Create reusable path`**<br/>\n",
    "\n",
    "**`3. Import dataframes`**<br/>\n",
    "\n",
    "**`4. Create a subset`**<br/>\n",
    "\n",
    "**`5. Identify product price range by user-defined function`**<br/>\n",
    "- _5.1 Define function on subset_<br/>\n",
    "- _5.2 Apply function on subset_<br/>\n",
    "- _5.3 Derive prodcut price range flag by label indexing_<br/>\n",
    "- _5.4 Apply on entire dataframe_<br/>\n",
    "\n",
    "**`6. Deriving new variables using If-Statements with For-Loops`**<br/>\n",
    "- _6.1 Identify busiest day/ least busy day_<br/>\n",
    "\n",
    "**`7. Export dataframe`**<br/>\n",
    "***\n",
    "                      \n"
   ]
  },
  {
   "cell_type": "markdown",
   "id": "130a67e7",
   "metadata": {},
   "source": [
    "### 1. Import libraries"
   ]
  },
  {
   "cell_type": "code",
   "execution_count": 2,
   "id": "c5f544ce",
   "metadata": {},
   "outputs": [],
   "source": [
    "# Import libraries\n",
    "import pandas as pd\n",
    "import numpy as np\n",
    "import os"
   ]
  },
  {
   "cell_type": "markdown",
   "id": "2b7b3c64",
   "metadata": {},
   "source": [
    "### 2. Create reusable path"
   ]
  },
  {
   "cell_type": "code",
   "execution_count": 3,
   "id": "64cb2e67",
   "metadata": {},
   "outputs": [],
   "source": [
    "# Create path\n",
    "path = r'/Users/bonnieandbanana/Desktop/A New Career/CareerFoundry/Data Immersion/A4_Python/ Instacart Basket Analysis Project (IC)'"
   ]
  },
  {
   "cell_type": "markdown",
   "id": "18c1392f",
   "metadata": {},
   "source": [
    "### 3. Import dataframes"
   ]
  },
  {
   "cell_type": "code",
   "execution_count": 4,
   "id": "dd1a8c77",
   "metadata": {},
   "outputs": [],
   "source": [
    "# Import dataframe 'ords_prods_merge'\n",
    "ords_prods_merge = pd.read_pickle(os.path.join(path, '02 data' , 'prepared data' , 'ords_prods_merge.pkl'))"
   ]
  },
  {
   "cell_type": "markdown",
   "id": "d746dc7e",
   "metadata": {},
   "source": [
    "### 4. Create a subset to operate on (avoid memory issue)"
   ]
  },
  {
   "cell_type": "code",
   "execution_count": 5,
   "id": "416fe365",
   "metadata": {},
   "outputs": [],
   "source": [
    "df= ords_prods_merge[:1000000]"
   ]
  },
  {
   "cell_type": "code",
   "execution_count": 6,
   "id": "0afa7159",
   "metadata": {},
   "outputs": [
    {
     "data": {
      "text/plain": [
       "(1000000, 16)"
      ]
     },
     "execution_count": 6,
     "metadata": {},
     "output_type": "execute_result"
    }
   ],
   "source": [
    "df.shape"
   ]
  },
  {
   "cell_type": "markdown",
   "id": "a52d3931",
   "metadata": {},
   "source": [
    "### 5. Identify product price range by user-defined function"
   ]
  },
  {
   "cell_type": "markdown",
   "id": "deb5fbce",
   "metadata": {},
   "source": [
    "#### _5.1 Define function_"
   ]
  },
  {
   "cell_type": "code",
   "execution_count": 7,
   "id": "36b5a2ab",
   "metadata": {},
   "outputs": [],
   "source": [
    "# Define function\n",
    "def price_label(row):\n",
    "    \n",
    "    if row ['prices'] <= 5:\n",
    "        return 'Low-range product'\n",
    "    elif (row ['prices'] > 5) and (row ['prices'] <= 15) :\n",
    "        return 'Med-range product'\n",
    "    elif row [ 'prices'] > 15:\n",
    "        return 'High range'\n",
    "    else : return 'Not enough data'"
   ]
  },
  {
   "cell_type": "markdown",
   "id": "3766292a",
   "metadata": {},
   "source": [
    "#### _5.2 Apply function_"
   ]
  },
  {
   "cell_type": "code",
   "execution_count": 8,
   "id": "20d33f75",
   "metadata": {},
   "outputs": [
    {
     "name": "stderr",
     "output_type": "stream",
     "text": [
      "/var/folders/0q/47hrk5n93wl2p7w37qq8g2q40000gn/T/ipykernel_3308/2473485647.py:3: SettingWithCopyWarning: \n",
      "A value is trying to be set on a copy of a slice from a DataFrame.\n",
      "Try using .loc[row_indexer,col_indexer] = value instead\n",
      "\n",
      "See the caveats in the documentation: https://pandas.pydata.org/pandas-docs/stable/user_guide/indexing.html#returning-a-view-versus-a-copy\n",
      "  df ['price_range'] = df.apply(price_label, axis = 1)\n"
     ]
    }
   ],
   "source": [
    "# Apply function in the newly created column\n",
    "df ['price_range'] = df.apply(price_label, axis = 1)"
   ]
  },
  {
   "cell_type": "code",
   "execution_count": 9,
   "id": "5d9b2410",
   "metadata": {},
   "outputs": [
    {
     "data": {
      "text/plain": [
       "Med-range product    756450\n",
       "Low-range product    243550\n",
       "Name: price_range, dtype: int64"
      ]
     },
     "execution_count": 9,
     "metadata": {},
     "output_type": "execute_result"
    }
   ],
   "source": [
    "df['price_range'].value_counts(dropna = False)"
   ]
  },
  {
   "cell_type": "code",
   "execution_count": 10,
   "id": "3d0e59a1",
   "metadata": {},
   "outputs": [
    {
     "data": {
      "text/plain": [
       "14.8"
      ]
     },
     "execution_count": 10,
     "metadata": {},
     "output_type": "execute_result"
    }
   ],
   "source": [
    "df['prices'].max()"
   ]
  },
  {
   "cell_type": "markdown",
   "id": "db6d529b",
   "metadata": {},
   "source": [
    "#### _5.3 Derive prodcut price range flag by label indexing_"
   ]
  },
  {
   "cell_type": "code",
   "execution_count": 11,
   "id": "bdf7ffb2",
   "metadata": {},
   "outputs": [
    {
     "name": "stderr",
     "output_type": "stream",
     "text": [
      "/var/folders/0q/47hrk5n93wl2p7w37qq8g2q40000gn/T/ipykernel_3308/2905662384.py:3: SettingWithCopyWarning: \n",
      "A value is trying to be set on a copy of a slice from a DataFrame.\n",
      "Try using .loc[row_indexer,col_indexer] = value instead\n",
      "\n",
      "See the caveats in the documentation: https://pandas.pydata.org/pandas-docs/stable/user_guide/indexing.html#returning-a-view-versus-a-copy\n",
      "  df.loc [df ['prices'] > 15, 'price_range_loc'] = 'High-range product'\n"
     ]
    }
   ],
   "source": [
    "# Prices larger than 15\n",
    "df.loc [df ['prices'] > 15, 'price_range_loc'] = 'High-range product'\n",
    "\n",
    "# Prices less than or equal to 15 and larger than 5 \n",
    "df.loc [ (df ['prices'] <= 15) & (df ['prices'] > 5) , 'price_range_loc'] = 'Mid-range product'\n",
    "\n",
    "# Prices less than or equal to 5\n",
    "df.loc [ df['prices'] <= 5, 'price_range_loc'] = 'Low-range product'"
   ]
  },
  {
   "cell_type": "code",
   "execution_count": 14,
   "id": "ab8ed652",
   "metadata": {},
   "outputs": [
    {
     "data": {
      "text/plain": [
       "Mid-range product    756450\n",
       "Low-range product    243550\n",
       "Name: price_range_loc, dtype: int64"
      ]
     },
     "execution_count": 14,
     "metadata": {},
     "output_type": "execute_result"
    }
   ],
   "source": [
    "# Check output\n",
    "df ['price_range_loc'].value_counts (dropna = False)"
   ]
  },
  {
   "cell_type": "markdown",
   "id": "45be948a",
   "metadata": {},
   "source": [
    "#### _5.4 Apply on entire dataframe_"
   ]
  },
  {
   "cell_type": "code",
   "execution_count": 15,
   "id": "7b75b2dc",
   "metadata": {},
   "outputs": [],
   "source": [
    "# Prices larger than 15\n",
    "ords_prods_merge.loc [ords_prods_merge ['prices'] > 15 , 'price_range_loc'] = 'High-range product'\n",
    "\n",
    "# Prices less than or equal to 15 and larger than 5 \n",
    "ords_prods_merge.loc [ (ords_prods_merge ['prices'] <= 15) & (ords_prods_merge ['prices'] > 5), 'price_range_loc'] = 'Mid-range product'\n",
    "\n",
    "# Prices less than or equal to 5\n",
    "ords_prods_merge.loc [ ords_prods_merge ['prices'] <= 5, 'price_range_loc'] = 'Low-range product'"
   ]
  },
  {
   "cell_type": "code",
   "execution_count": 18,
   "id": "db66f723",
   "metadata": {},
   "outputs": [
    {
     "data": {
      "text/plain": [
       "Mid-range product     21860860\n",
       "Low-range product     10126321\n",
       "High-range product      417678\n",
       "Name: price_range_loc, dtype: int64"
      ]
     },
     "execution_count": 18,
     "metadata": {},
     "output_type": "execute_result"
    }
   ],
   "source": [
    "# Check output\n",
    "ords_prods_merge ['price_range_loc'].value_counts (dropna = False)"
   ]
  },
  {
   "cell_type": "markdown",
   "id": "99d8d62e",
   "metadata": {},
   "source": [
    "### 6. Deriving new variables using if-Statements with For-Loops"
   ]
  },
  {
   "cell_type": "markdown",
   "id": "20d8efd7",
   "metadata": {},
   "source": [
    "#### _6.1 Identify busiest day/ least busy day_"
   ]
  },
  {
   "cell_type": "code",
   "execution_count": 19,
   "id": "e6c6c009",
   "metadata": {},
   "outputs": [
    {
     "data": {
      "text/plain": [
       "0    6204182\n",
       "1    5660230\n",
       "6    4496490\n",
       "2    4213830\n",
       "5    4205791\n",
       "3    3840534\n",
       "4    3783802\n",
       "Name: order_day_of_the_week, dtype: int64"
      ]
     },
     "execution_count": 19,
     "metadata": {},
     "output_type": "execute_result"
    }
   ],
   "source": [
    "# Get the frequence to know which day most orders take place\n",
    "ords_prods_merge ['order_day_of_the_week'].value_counts(dropna = False)"
   ]
  },
  {
   "cell_type": "markdown",
   "id": "6a0485a8",
   "metadata": {},
   "source": [
    "**Observation** <br/>\n",
    "Number of orders has been arranged in descending order, the day '0' with the most orders represent 'Saturday', while day '4' represents Wednesday"
   ]
  },
  {
   "cell_type": "code",
   "execution_count": 20,
   "id": "6e51b07c",
   "metadata": {},
   "outputs": [],
   "source": [
    "# Apply for-loop integrated with if-statements\n",
    "result = []\n",
    "\n",
    "for value in ords_prods_merge ['order_day_of_the_week'] :\n",
    "    if value == 0:\n",
    "        result.append('Busiest day')\n",
    "    elif value == 4:\n",
    "        result.append('Least busy')\n",
    "    else :\n",
    "        result.append('Regularly busy')"
   ]
  },
  {
   "cell_type": "code",
   "execution_count": 21,
   "id": "40c56b68",
   "metadata": {},
   "outputs": [
    {
     "data": {
      "text/plain": [
       "['Regularly busy',\n",
       " 'Regularly busy',\n",
       " 'Regularly busy',\n",
       " 'Least busy',\n",
       " 'Least busy']"
      ]
     },
     "execution_count": 21,
     "metadata": {},
     "output_type": "execute_result"
    }
   ],
   "source": [
    "result [:5]"
   ]
  },
  {
   "cell_type": "markdown",
   "id": "0a4b3cdb",
   "metadata": {},
   "source": [
    "**Observation** <br/>\n",
    "The list 'result' does not help much, it should be combined with the ords_prods_merge dataframe"
   ]
  },
  {
   "cell_type": "code",
   "execution_count": 22,
   "id": "5695ba0d",
   "metadata": {},
   "outputs": [],
   "source": [
    "# Combine result list with the dataframe\n",
    "ords_prods_merge ['busiest_day'] = result"
   ]
  },
  {
   "cell_type": "code",
   "execution_count": 23,
   "id": "379aa124",
   "metadata": {},
   "outputs": [
    {
     "data": {
      "text/plain": [
       "Regularly busy    22416875\n",
       "Busiest day        6204182\n",
       "Least busy         3783802\n",
       "Name: busiest_day, dtype: int64"
      ]
     },
     "execution_count": 23,
     "metadata": {},
     "output_type": "execute_result"
    }
   ],
   "source": [
    "# Count the frequency of the new created column and cross-check it with frequency check done before the loop\n",
    "ords_prods_merge ['busiest_day'].value_counts(dropna = False)"
   ]
  },
  {
   "cell_type": "markdown",
   "id": "c9d9340b",
   "metadata": {},
   "source": [
    "### 7. Export dataframe"
   ]
  },
  {
   "cell_type": "code",
   "execution_count": 36,
   "id": "dabeead7",
   "metadata": {},
   "outputs": [],
   "source": [
    "# Export data as pickle\n",
    "ords_prods_merge.to_pickle(os.path.join(path, '02 data' , 'prepared data' , 'ords_prods_derived.pkl'))"
   ]
  },
  {
   "cell_type": "code",
   "execution_count": null,
   "id": "ea5d83fc",
   "metadata": {},
   "outputs": [],
   "source": []
  }
 ],
 "metadata": {
  "kernelspec": {
   "display_name": "Python 3 (ipykernel)",
   "language": "python",
   "name": "python3"
  },
  "language_info": {
   "codemirror_mode": {
    "name": "ipython",
    "version": 3
   },
   "file_extension": ".py",
   "mimetype": "text/x-python",
   "name": "python",
   "nbconvert_exporter": "python",
   "pygments_lexer": "ipython3",
   "version": "3.9.13"
  }
 },
 "nbformat": 4,
 "nbformat_minor": 5
}
